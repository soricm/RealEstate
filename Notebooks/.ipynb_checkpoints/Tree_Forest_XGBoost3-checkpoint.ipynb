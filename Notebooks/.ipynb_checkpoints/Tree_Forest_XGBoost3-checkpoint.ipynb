{
 "cells": [
  {
   "cell_type": "markdown",
   "metadata": {
    "id": "rGWVl6NgcjjA"
   },
   "source": [
    "# Machine Learning : Projet Real Estate\n",
    "\n",
    "### Tree and Random Forest\n",
    "\n",
    "##### Membres : Zakaria Kabara - Valentin Lhote - Omar Mousteau - Marijan Sorić"
   ]
  },
  {
   "cell_type": "code",
   "execution_count": 1,
   "metadata": {
    "id": "IGyseBlFcxXV"
   },
   "outputs": [],
   "source": [
    "import pandas as pd\n",
    "import numpy as np\n",
    "import matplotlib.pyplot as plt\n",
    "import seaborn as sns\n",
    "import sklearn\n",
    "#import tensorflow as tf\n",
    "import random"
   ]
  },
  {
   "cell_type": "code",
   "execution_count": 2,
   "metadata": {
    "colab": {
     "base_uri": "https://localhost:8080/",
     "height": 380
    },
    "id": "4YUiICwSc6Tc",
    "outputId": "89794ef3-7f34-411d-b282-bb010c958d20",
    "tags": []
   },
   "outputs": [
    {
     "name": "stdout",
     "output_type": "stream",
     "text": [
      "id_annonce                       int64\n",
      "property_type                   object\n",
      "approximate_latitude           float64\n",
      "approximate_longitude          float64\n",
      "city                            object\n",
      "postal_code                      int64\n",
      "size                           float64\n",
      "floor                          float64\n",
      "land_size                      float64\n",
      "energy_performance_value       float64\n",
      "energy_performance_category     object\n",
      "ghg_value                      float64\n",
      "ghg_category                    object\n",
      "exposition                      object\n",
      "nb_rooms                       float64\n",
      "nb_bedrooms                    float64\n",
      "nb_bathrooms                   float64\n",
      "nb_parking_places              float64\n",
      "nb_boxes                       float64\n",
      "nb_photos                      float64\n",
      "has_a_balcony                  float64\n",
      "nb_terraces                    float64\n",
      "has_a_cellar                   float64\n",
      "has_a_garage                   float64\n",
      "has_air_conditioning           float64\n",
      "last_floor                     float64\n",
      "upper_floors                   float64\n",
      "dtype: object\n"
     ]
    },
    {
     "data": {
      "text/plain": [
       "(37368, 27)"
      ]
     },
     "execution_count": 2,
     "metadata": {},
     "output_type": "execute_result"
    }
   ],
   "source": [
    "X_train_path = \"X_train_J01Z4CN.csv\"   # Ouverture et conversion en dataframe du X d'entrainement\n",
    "X_train = pd.read_csv(X_train_path)\n",
    "print(X_train.dtypes) # Liste des paramètres dans le X ainsi que leur type\n",
    "X_train.shape # 5 premières lignes de la Dataframe"
   ]
  },
  {
   "cell_type": "code",
   "execution_count": 3,
   "metadata": {
    "id": "c6h7Z0N0c8T8"
   },
   "outputs": [],
   "source": [
    "y_train_path = \"y_train_OXxrJt1.csv\"    # Ouverture et conversion en dataframe du y d'entrainement\n",
    "y_train = pd.read_csv(y_train_path)\n",
    "#y_train.head(5)"
   ]
  },
  {
   "cell_type": "code",
   "execution_count": 4,
   "metadata": {
    "id": "WGvmCTvhc-0Y",
    "tags": []
   },
   "outputs": [],
   "source": [
    "\"\"\"Création d'un unique dataframe combinant les prix et les attributs de chaque bien\"\"\"\n",
    "df=X_train.copy()\n",
    "df.insert(1, 'price', y_train['price'])\n",
    "#df.head()"
   ]
  },
  {
   "cell_type": "code",
   "execution_count": 5,
   "metadata": {
    "id": "og-EGeKJIVo4",
    "outputId": "3b4d0210-b700-4314-cb4f-173f8d2cb7fe"
   },
   "outputs": [
    {
     "data": {
      "text/html": [
       "<div>\n",
       "<style scoped>\n",
       "    .dataframe tbody tr th:only-of-type {\n",
       "        vertical-align: middle;\n",
       "    }\n",
       "\n",
       "    .dataframe tbody tr th {\n",
       "        vertical-align: top;\n",
       "    }\n",
       "\n",
       "    .dataframe thead th {\n",
       "        text-align: right;\n",
       "    }\n",
       "</style>\n",
       "<table border=\"1\" class=\"dataframe\">\n",
       "  <thead>\n",
       "    <tr style=\"text-align: right;\">\n",
       "      <th></th>\n",
       "      <th>id_annonce</th>\n",
       "      <th>price</th>\n",
       "      <th>property_type</th>\n",
       "      <th>approximate_latitude</th>\n",
       "      <th>approximate_longitude</th>\n",
       "      <th>city</th>\n",
       "      <th>postal_code</th>\n",
       "      <th>size</th>\n",
       "      <th>floor</th>\n",
       "      <th>land_size</th>\n",
       "      <th>...</th>\n",
       "      <th>nb_parking_places</th>\n",
       "      <th>nb_boxes</th>\n",
       "      <th>nb_photos</th>\n",
       "      <th>has_a_balcony</th>\n",
       "      <th>nb_terraces</th>\n",
       "      <th>has_a_cellar</th>\n",
       "      <th>has_a_garage</th>\n",
       "      <th>has_air_conditioning</th>\n",
       "      <th>last_floor</th>\n",
       "      <th>upper_floors</th>\n",
       "    </tr>\n",
       "  </thead>\n",
       "  <tbody>\n",
       "    <tr>\n",
       "      <th>0</th>\n",
       "      <td>35996577</td>\n",
       "      <td>355000.0</td>\n",
       "      <td>appartement</td>\n",
       "      <td>43.643880</td>\n",
       "      <td>7.117183</td>\n",
       "      <td>villeneuve-loubet</td>\n",
       "      <td>6270</td>\n",
       "      <td>63.0</td>\n",
       "      <td>NaN</td>\n",
       "      <td>NaN</td>\n",
       "      <td>...</td>\n",
       "      <td>0.0</td>\n",
       "      <td>0.0</td>\n",
       "      <td>4.0</td>\n",
       "      <td>0.0</td>\n",
       "      <td>1.0</td>\n",
       "      <td>0.0</td>\n",
       "      <td>0.0</td>\n",
       "      <td>0.0</td>\n",
       "      <td>0.0</td>\n",
       "      <td>0.0</td>\n",
       "    </tr>\n",
       "    <tr>\n",
       "      <th>1</th>\n",
       "      <td>35811033</td>\n",
       "      <td>190000.0</td>\n",
       "      <td>appartement</td>\n",
       "      <td>45.695757</td>\n",
       "      <td>4.895610</td>\n",
       "      <td>venissieux</td>\n",
       "      <td>69200</td>\n",
       "      <td>90.0</td>\n",
       "      <td>3.0</td>\n",
       "      <td>NaN</td>\n",
       "      <td>...</td>\n",
       "      <td>0.0</td>\n",
       "      <td>0.0</td>\n",
       "      <td>8.0</td>\n",
       "      <td>0.0</td>\n",
       "      <td>0.0</td>\n",
       "      <td>0.0</td>\n",
       "      <td>0.0</td>\n",
       "      <td>0.0</td>\n",
       "      <td>0.0</td>\n",
       "      <td>0.0</td>\n",
       "    </tr>\n",
       "    <tr>\n",
       "      <th>2</th>\n",
       "      <td>35731841</td>\n",
       "      <td>39000.0</td>\n",
       "      <td>maison</td>\n",
       "      <td>47.966791</td>\n",
       "      <td>-1.220451</td>\n",
       "      <td>moutiers</td>\n",
       "      <td>35130</td>\n",
       "      <td>61.0</td>\n",
       "      <td>NaN</td>\n",
       "      <td>370.0</td>\n",
       "      <td>...</td>\n",
       "      <td>0.0</td>\n",
       "      <td>0.0</td>\n",
       "      <td>4.0</td>\n",
       "      <td>0.0</td>\n",
       "      <td>0.0</td>\n",
       "      <td>0.0</td>\n",
       "      <td>0.0</td>\n",
       "      <td>0.0</td>\n",
       "      <td>0.0</td>\n",
       "      <td>0.0</td>\n",
       "    </tr>\n",
       "    <tr>\n",
       "      <th>3</th>\n",
       "      <td>35886765</td>\n",
       "      <td>299000.0</td>\n",
       "      <td>maison</td>\n",
       "      <td>47.289292</td>\n",
       "      <td>-1.878805</td>\n",
       "      <td>cordemais</td>\n",
       "      <td>44360</td>\n",
       "      <td>142.0</td>\n",
       "      <td>NaN</td>\n",
       "      <td>764.0</td>\n",
       "      <td>...</td>\n",
       "      <td>0.0</td>\n",
       "      <td>1.0</td>\n",
       "      <td>8.0</td>\n",
       "      <td>0.0</td>\n",
       "      <td>1.0</td>\n",
       "      <td>0.0</td>\n",
       "      <td>0.0</td>\n",
       "      <td>0.0</td>\n",
       "      <td>0.0</td>\n",
       "      <td>0.0</td>\n",
       "    </tr>\n",
       "    <tr>\n",
       "      <th>4</th>\n",
       "      <td>35781137</td>\n",
       "      <td>478000.0</td>\n",
       "      <td>appartement</td>\n",
       "      <td>45.718992</td>\n",
       "      <td>4.844234</td>\n",
       "      <td>lyon-7eme</td>\n",
       "      <td>69007</td>\n",
       "      <td>88.0</td>\n",
       "      <td>3.0</td>\n",
       "      <td>NaN</td>\n",
       "      <td>...</td>\n",
       "      <td>0.0</td>\n",
       "      <td>1.0</td>\n",
       "      <td>5.0</td>\n",
       "      <td>1.0</td>\n",
       "      <td>0.0</td>\n",
       "      <td>0.0</td>\n",
       "      <td>0.0</td>\n",
       "      <td>0.0</td>\n",
       "      <td>0.0</td>\n",
       "      <td>0.0</td>\n",
       "    </tr>\n",
       "  </tbody>\n",
       "</table>\n",
       "<p>5 rows × 28 columns</p>\n",
       "</div>"
      ],
      "text/plain": [
       "   id_annonce     price property_type  approximate_latitude  \\\n",
       "0    35996577  355000.0   appartement             43.643880   \n",
       "1    35811033  190000.0   appartement             45.695757   \n",
       "2    35731841   39000.0        maison             47.966791   \n",
       "3    35886765  299000.0        maison             47.289292   \n",
       "4    35781137  478000.0   appartement             45.718992   \n",
       "\n",
       "   approximate_longitude               city  postal_code   size  floor  \\\n",
       "0               7.117183  villeneuve-loubet         6270   63.0    NaN   \n",
       "1               4.895610         venissieux        69200   90.0    3.0   \n",
       "2              -1.220451           moutiers        35130   61.0    NaN   \n",
       "3              -1.878805          cordemais        44360  142.0    NaN   \n",
       "4               4.844234          lyon-7eme        69007   88.0    3.0   \n",
       "\n",
       "   land_size  ...  nb_parking_places nb_boxes  nb_photos has_a_balcony  \\\n",
       "0        NaN  ...                0.0      0.0        4.0           0.0   \n",
       "1        NaN  ...                0.0      0.0        8.0           0.0   \n",
       "2      370.0  ...                0.0      0.0        4.0           0.0   \n",
       "3      764.0  ...                0.0      1.0        8.0           0.0   \n",
       "4        NaN  ...                0.0      1.0        5.0           1.0   \n",
       "\n",
       "  nb_terraces  has_a_cellar  has_a_garage  has_air_conditioning  last_floor  \\\n",
       "0         1.0           0.0           0.0                   0.0         0.0   \n",
       "1         0.0           0.0           0.0                   0.0         0.0   \n",
       "2         0.0           0.0           0.0                   0.0         0.0   \n",
       "3         1.0           0.0           0.0                   0.0         0.0   \n",
       "4         0.0           0.0           0.0                   0.0         0.0   \n",
       "\n",
       "   upper_floors  \n",
       "0           0.0  \n",
       "1           0.0  \n",
       "2           0.0  \n",
       "3           0.0  \n",
       "4           0.0  \n",
       "\n",
       "[5 rows x 28 columns]"
      ]
     },
     "execution_count": 5,
     "metadata": {},
     "output_type": "execute_result"
    }
   ],
   "source": [
    "df.head()"
   ]
  },
  {
   "cell_type": "markdown",
   "metadata": {
    "id": "zwRrDpaqIVo4"
   },
   "source": [
    "### Preprocessing"
   ]
  },
  {
   "cell_type": "markdown",
   "metadata": {
    "id": "9lLsQHpJIVo5"
   },
   "source": [
    "On enlève les paramètres que l'on juge moins utiles (on va utiliser lat et long au lieu de la ville/code postal)."
   ]
  },
  {
   "cell_type": "code",
   "execution_count": 6,
   "metadata": {
    "id": "bm81peguIVo5"
   },
   "outputs": [],
   "source": [
    "df=df.drop(columns=['city','postal_code','energy_performance_category','ghg_category','exposition','nb_photos'])\n"
   ]
  },
  {
   "cell_type": "code",
   "execution_count": 7,
   "metadata": {
    "id": "m9I0i4clIVo6",
    "outputId": "834133ed-f971-4976-dca7-807fa7e2c313"
   },
   "outputs": [
    {
     "data": {
      "text/html": [
       "<div>\n",
       "<style scoped>\n",
       "    .dataframe tbody tr th:only-of-type {\n",
       "        vertical-align: middle;\n",
       "    }\n",
       "\n",
       "    .dataframe tbody tr th {\n",
       "        vertical-align: top;\n",
       "    }\n",
       "\n",
       "    .dataframe thead th {\n",
       "        text-align: right;\n",
       "    }\n",
       "</style>\n",
       "<table border=\"1\" class=\"dataframe\">\n",
       "  <thead>\n",
       "    <tr style=\"text-align: right;\">\n",
       "      <th></th>\n",
       "      <th>id_annonce</th>\n",
       "      <th>price</th>\n",
       "      <th>property_type</th>\n",
       "      <th>approximate_latitude</th>\n",
       "      <th>approximate_longitude</th>\n",
       "      <th>size</th>\n",
       "      <th>floor</th>\n",
       "      <th>land_size</th>\n",
       "      <th>energy_performance_value</th>\n",
       "      <th>ghg_value</th>\n",
       "      <th>...</th>\n",
       "      <th>nb_bathrooms</th>\n",
       "      <th>nb_parking_places</th>\n",
       "      <th>nb_boxes</th>\n",
       "      <th>has_a_balcony</th>\n",
       "      <th>nb_terraces</th>\n",
       "      <th>has_a_cellar</th>\n",
       "      <th>has_a_garage</th>\n",
       "      <th>has_air_conditioning</th>\n",
       "      <th>last_floor</th>\n",
       "      <th>upper_floors</th>\n",
       "    </tr>\n",
       "  </thead>\n",
       "  <tbody>\n",
       "    <tr>\n",
       "      <th>0</th>\n",
       "      <td>35996577</td>\n",
       "      <td>355000.0</td>\n",
       "      <td>appartement</td>\n",
       "      <td>43.643880</td>\n",
       "      <td>7.117183</td>\n",
       "      <td>63.0</td>\n",
       "      <td>NaN</td>\n",
       "      <td>NaN</td>\n",
       "      <td>NaN</td>\n",
       "      <td>NaN</td>\n",
       "      <td>...</td>\n",
       "      <td>NaN</td>\n",
       "      <td>0.0</td>\n",
       "      <td>0.0</td>\n",
       "      <td>0.0</td>\n",
       "      <td>1.0</td>\n",
       "      <td>0.0</td>\n",
       "      <td>0.0</td>\n",
       "      <td>0.0</td>\n",
       "      <td>0.0</td>\n",
       "      <td>0.0</td>\n",
       "    </tr>\n",
       "    <tr>\n",
       "      <th>1</th>\n",
       "      <td>35811033</td>\n",
       "      <td>190000.0</td>\n",
       "      <td>appartement</td>\n",
       "      <td>45.695757</td>\n",
       "      <td>4.895610</td>\n",
       "      <td>90.0</td>\n",
       "      <td>3.0</td>\n",
       "      <td>NaN</td>\n",
       "      <td>223.0</td>\n",
       "      <td>52.0</td>\n",
       "      <td>...</td>\n",
       "      <td>NaN</td>\n",
       "      <td>0.0</td>\n",
       "      <td>0.0</td>\n",
       "      <td>0.0</td>\n",
       "      <td>0.0</td>\n",
       "      <td>0.0</td>\n",
       "      <td>0.0</td>\n",
       "      <td>0.0</td>\n",
       "      <td>0.0</td>\n",
       "      <td>0.0</td>\n",
       "    </tr>\n",
       "    <tr>\n",
       "      <th>2</th>\n",
       "      <td>35731841</td>\n",
       "      <td>39000.0</td>\n",
       "      <td>maison</td>\n",
       "      <td>47.966791</td>\n",
       "      <td>-1.220451</td>\n",
       "      <td>61.0</td>\n",
       "      <td>NaN</td>\n",
       "      <td>370.0</td>\n",
       "      <td>NaN</td>\n",
       "      <td>NaN</td>\n",
       "      <td>...</td>\n",
       "      <td>NaN</td>\n",
       "      <td>0.0</td>\n",
       "      <td>0.0</td>\n",
       "      <td>0.0</td>\n",
       "      <td>0.0</td>\n",
       "      <td>0.0</td>\n",
       "      <td>0.0</td>\n",
       "      <td>0.0</td>\n",
       "      <td>0.0</td>\n",
       "      <td>0.0</td>\n",
       "    </tr>\n",
       "    <tr>\n",
       "      <th>3</th>\n",
       "      <td>35886765</td>\n",
       "      <td>299000.0</td>\n",
       "      <td>maison</td>\n",
       "      <td>47.289292</td>\n",
       "      <td>-1.878805</td>\n",
       "      <td>142.0</td>\n",
       "      <td>NaN</td>\n",
       "      <td>764.0</td>\n",
       "      <td>217.0</td>\n",
       "      <td>44.0</td>\n",
       "      <td>...</td>\n",
       "      <td>NaN</td>\n",
       "      <td>0.0</td>\n",
       "      <td>1.0</td>\n",
       "      <td>0.0</td>\n",
       "      <td>1.0</td>\n",
       "      <td>0.0</td>\n",
       "      <td>0.0</td>\n",
       "      <td>0.0</td>\n",
       "      <td>0.0</td>\n",
       "      <td>0.0</td>\n",
       "    </tr>\n",
       "    <tr>\n",
       "      <th>4</th>\n",
       "      <td>35781137</td>\n",
       "      <td>478000.0</td>\n",
       "      <td>appartement</td>\n",
       "      <td>45.718992</td>\n",
       "      <td>4.844234</td>\n",
       "      <td>88.0</td>\n",
       "      <td>3.0</td>\n",
       "      <td>NaN</td>\n",
       "      <td>NaN</td>\n",
       "      <td>NaN</td>\n",
       "      <td>...</td>\n",
       "      <td>1.0</td>\n",
       "      <td>0.0</td>\n",
       "      <td>1.0</td>\n",
       "      <td>1.0</td>\n",
       "      <td>0.0</td>\n",
       "      <td>0.0</td>\n",
       "      <td>0.0</td>\n",
       "      <td>0.0</td>\n",
       "      <td>0.0</td>\n",
       "      <td>0.0</td>\n",
       "    </tr>\n",
       "  </tbody>\n",
       "</table>\n",
       "<p>5 rows × 22 columns</p>\n",
       "</div>"
      ],
      "text/plain": [
       "   id_annonce     price property_type  approximate_latitude  \\\n",
       "0    35996577  355000.0   appartement             43.643880   \n",
       "1    35811033  190000.0   appartement             45.695757   \n",
       "2    35731841   39000.0        maison             47.966791   \n",
       "3    35886765  299000.0        maison             47.289292   \n",
       "4    35781137  478000.0   appartement             45.718992   \n",
       "\n",
       "   approximate_longitude   size  floor  land_size  energy_performance_value  \\\n",
       "0               7.117183   63.0    NaN        NaN                       NaN   \n",
       "1               4.895610   90.0    3.0        NaN                     223.0   \n",
       "2              -1.220451   61.0    NaN      370.0                       NaN   \n",
       "3              -1.878805  142.0    NaN      764.0                     217.0   \n",
       "4               4.844234   88.0    3.0        NaN                       NaN   \n",
       "\n",
       "   ghg_value  ...  nb_bathrooms  nb_parking_places  nb_boxes  has_a_balcony  \\\n",
       "0        NaN  ...           NaN                0.0       0.0            0.0   \n",
       "1       52.0  ...           NaN                0.0       0.0            0.0   \n",
       "2        NaN  ...           NaN                0.0       0.0            0.0   \n",
       "3       44.0  ...           NaN                0.0       1.0            0.0   \n",
       "4        NaN  ...           1.0                0.0       1.0            1.0   \n",
       "\n",
       "   nb_terraces  has_a_cellar  has_a_garage  has_air_conditioning  last_floor  \\\n",
       "0          1.0           0.0           0.0                   0.0         0.0   \n",
       "1          0.0           0.0           0.0                   0.0         0.0   \n",
       "2          0.0           0.0           0.0                   0.0         0.0   \n",
       "3          1.0           0.0           0.0                   0.0         0.0   \n",
       "4          0.0           0.0           0.0                   0.0         0.0   \n",
       "\n",
       "   upper_floors  \n",
       "0           0.0  \n",
       "1           0.0  \n",
       "2           0.0  \n",
       "3           0.0  \n",
       "4           0.0  \n",
       "\n",
       "[5 rows x 22 columns]"
      ]
     },
     "execution_count": 7,
     "metadata": {},
     "output_type": "execute_result"
    }
   ],
   "source": [
    "df.head()"
   ]
  },
  {
   "cell_type": "markdown",
   "metadata": {
    "id": "ve3dmAG4IVo7"
   },
   "source": [
    "On fixe l'étage à 0 pour les maisons :"
   ]
  },
  {
   "cell_type": "code",
   "execution_count": 8,
   "metadata": {
    "id": "jnEEtzDlIVo7",
    "outputId": "9c891fac-ce57-48c6-bb67-a98c9ce56eb4",
    "tags": []
   },
   "outputs": [
    {
     "data": {
      "text/plain": [
       "2        0.0\n",
       "3        0.0\n",
       "7        0.0\n",
       "8        0.0\n",
       "9        0.0\n",
       "        ... \n",
       "37351    0.0\n",
       "37355    0.0\n",
       "37356    0.0\n",
       "37357    0.0\n",
       "37367    0.0\n",
       "Name: floor, Length: 15675, dtype: float64"
      ]
     },
     "execution_count": 8,
     "metadata": {},
     "output_type": "execute_result"
    }
   ],
   "source": [
    "df[df['property_type']==\"maison\"]=df[df['property_type']==\"maison\"].assign(floor=0.0)\n",
    "df[df['property_type']==\"maison\"].loc[:,'floor']"
   ]
  },
  {
   "cell_type": "markdown",
   "metadata": {
    "id": "_WMAmilKIVo8"
   },
   "source": [
    "On fixe le land_size des appartement à la size."
   ]
  },
  {
   "cell_type": "code",
   "execution_count": 9,
   "metadata": {
    "id": "DjjnA4jHIVo8"
   },
   "outputs": [],
   "source": [
    "df.loc[df['property_type']==\"appartement\",'land_size']=df.loc[df['property_type']==\"appartement\",'land_size'].fillna(0)"
   ]
  },
  {
   "cell_type": "code",
   "execution_count": 10,
   "metadata": {
    "id": "GRZXo61MIVo8",
    "outputId": "33d6f22d-fb81-4eee-e92a-f764773c1a0e"
   },
   "outputs": [
    {
     "name": "stdout",
     "output_type": "stream",
     "text": [
      "id_annonce                   0.000000\n",
      "has_air_conditioning         0.000000\n",
      "has_a_garage                 0.000000\n",
      "has_a_cellar                 0.000000\n",
      "nb_terraces                  0.000000\n",
      "has_a_balcony                0.000000\n",
      "nb_boxes                     0.000000\n",
      "nb_parking_places            0.000000\n",
      "last_floor                   0.000000\n",
      "upper_floors                 0.000000\n",
      "land_size                    0.000000\n",
      "approximate_longitude        0.000000\n",
      "approximate_latitude         0.000000\n",
      "property_type                0.000000\n",
      "price                        0.000000\n",
      "nb_rooms                     0.355940\n",
      "size                         0.648319\n",
      "nb_bedrooms                  7.131507\n",
      "nb_bathrooms                37.310113\n",
      "floor                       38.994470\n",
      "energy_performance_value    50.746838\n",
      "ghg_value                   51.840081\n",
      "dtype: float64\n"
     ]
    }
   ],
   "source": [
    "\"\"\" % de NaN par colonne du dtf avec uniquement les appartements\"\"\"\n",
    "print((df[df['property_type']==\"appartement\"].isna().sum()*100/df[df['property_type']==\"appartement\"].shape[0]).sort_values(ascending=True))"
   ]
  },
  {
   "cell_type": "code",
   "execution_count": 11,
   "metadata": {
    "id": "2Yf9DvMTIVo9",
    "outputId": "1e2a9918-899f-4dbf-8343-591ab9349386"
   },
   "outputs": [
    {
     "name": "stdout",
     "output_type": "stream",
     "text": [
      "id_annonce                   0.000000\n",
      "has_air_conditioning         0.000000\n",
      "has_a_garage                 0.000000\n",
      "has_a_cellar                 0.000000\n",
      "nb_terraces                  0.000000\n",
      "has_a_balcony                0.000000\n",
      "nb_boxes                     0.000000\n",
      "nb_parking_places            0.000000\n",
      "last_floor                   0.000000\n",
      "upper_floors                 0.000000\n",
      "approximate_longitude        0.000000\n",
      "approximate_latitude         0.000000\n",
      "property_type                0.000000\n",
      "price                        0.000000\n",
      "size                         1.370156\n",
      "nb_rooms                     4.190751\n",
      "nb_bedrooms                  7.313744\n",
      "land_size                   17.929779\n",
      "floor                       31.979234\n",
      "nb_bathrooms                35.519696\n",
      "energy_performance_value    48.972383\n",
      "ghg_value                   50.412117\n",
      "dtype: float64\n"
     ]
    }
   ],
   "source": [
    "\"\"\" % de NaN par colonne du dtf total\"\"\"\n",
    "print((df.isna().sum()*100/df.shape[0]).sort_values(ascending=True))\n",
    "#sns.heatmap(df[df['property_type']==\"appartement\"].isna(),cbar=False)"
   ]
  },
  {
   "cell_type": "markdown",
   "metadata": {
    "id": "Xdbn4KSrIVo9"
   },
   "source": [
    "On choisit, pour les appartements où le nombre de salles de bains n'est pas spécifié, de fixer ce nombre à 1."
   ]
  },
  {
   "cell_type": "code",
   "execution_count": 12,
   "metadata": {
    "id": "WXyGipeOIVo-"
   },
   "outputs": [],
   "source": [
    "df.loc[df['property_type']==\"maison\",'nb_bathrooms']=df.loc[df['property_type']==\"maison\",'nb_bathrooms'].fillna(1)\n",
    "df.loc[df['property_type']==\"appartement\",'nb_bathrooms']=df.loc[df['property_type']==\"appartement\",'nb_bathrooms'].fillna(1)"
   ]
  },
  {
   "cell_type": "code",
   "execution_count": 13,
   "metadata": {
    "id": "S79gYDmAIVo-",
    "outputId": "96d663cd-4e39-426a-a998-30cdd4ce5a58",
    "tags": []
   },
   "outputs": [
    {
     "data": {
      "text/plain": [
       "<AxesSubplot: >"
      ]
     },
     "execution_count": 13,
     "metadata": {},
     "output_type": "execute_result"
    },
    {
     "data": {
      "image/png": "[encoded data removed]",
      "text/plain": [
       "<Figure size 640x480 with 1 Axes>"
      ]
     },
     "metadata": {},
     "output_type": "display_data"
    }
   ],
   "source": [
    "sns.heatmap(df[df['property_type']==\"appartement\"].isna(),cbar=False)"
   ]
  },
  {
   "cell_type": "code",
   "execution_count": 14,
   "metadata": {
    "id": "ZuUILD1RIVo_",
    "outputId": "a5fe41f0-b6e9-4fdf-893c-c1358a6e3b4d"
   },
   "outputs": [
    {
     "name": "stdout",
     "output_type": "stream",
     "text": [
      "id_annonce                   0.000000\n",
      "has_air_conditioning         0.000000\n",
      "has_a_garage                 0.000000\n",
      "has_a_cellar                 0.000000\n",
      "nb_terraces                  0.000000\n",
      "has_a_balcony                0.000000\n",
      "nb_boxes                     0.000000\n",
      "nb_parking_places            0.000000\n",
      "last_floor                   0.000000\n",
      "upper_floors                 0.000000\n",
      "approximate_longitude        0.000000\n",
      "approximate_latitude         0.000000\n",
      "property_type                0.000000\n",
      "price                        0.000000\n",
      "size                         1.370156\n",
      "nb_rooms                     4.190751\n",
      "nb_bathrooms                 6.674160\n",
      "nb_bedrooms                  7.313744\n",
      "land_size                   17.929779\n",
      "floor                       31.979234\n",
      "energy_performance_value    48.972383\n",
      "ghg_value                   50.412117\n",
      "dtype: float64\n"
     ]
    }
   ],
   "source": [
    "\"\"\" % de NaN par colonne du dtf total\"\"\"\n",
    "print((df.isna().sum()*100/df.shape[0]).sort_values(ascending=True))"
   ]
  },
  {
   "cell_type": "code",
   "execution_count": 15,
   "metadata": {
    "id": "8kq5IithIVo_",
    "outputId": "5feefb37-0c02-478a-e42a-83ea0d84703c"
   },
   "outputs": [
    {
     "data": {
      "text/plain": [
       "<AxesSubplot: ylabel='floor'>"
      ]
     },
     "execution_count": 15,
     "metadata": {},
     "output_type": "execute_result"
    },
    {
     "data": {
      "image/png": "[encoded data removed]",
      "text/plain": [
       "<Figure size 640x480 with 1 Axes>"
      ]
     },
     "metadata": {},
     "output_type": "display_data"
    }
   ],
   "source": [
    "\n",
    "df[df['property_type']=='appartement']['floor'].value_counts().plot.pie()"
   ]
  },
  {
   "cell_type": "code",
   "execution_count": 16,
   "metadata": {
    "id": "PXFAkH0wIVo_",
    "outputId": "1e228b84-3003-4648-d7c4-116212172f52"
   },
   "outputs": [
    {
     "data": {
      "text/plain": [
       "<AxesSubplot: >"
      ]
     },
     "execution_count": 16,
     "metadata": {},
     "output_type": "execute_result"
    },
    {
     "data": {
      "image/png": "[encoded data removed]",
      "text/plain": [
       "<Figure size 640x480 with 1 Axes>"
      ]
     },
     "metadata": {},
     "output_type": "display_data"
    }
   ],
   "source": [
    "df[df['property_type']=='appartement']['floor'].plot()"
   ]
  },
  {
   "cell_type": "markdown",
   "metadata": {
    "id": "ijDSU0rtIVpA"
   },
   "source": [
    "(Peut-être ajouter d'autres spécificités sur la moyenne)"
   ]
  },
  {
   "cell_type": "code",
   "execution_count": 17,
   "metadata": {
    "id": "vCnQDIirIVpA"
   },
   "outputs": [],
   "source": [
    "type_biens=list(set(list(df['property_type'].values)))\n",
    "type_biens.remove('appartement')\n",
    "for bien in type_biens:\n",
    "#    if df[df['property_type']==\"appartement\"]['floor'].mean()= np.nan:\n",
    "    df.loc[df['property_type']==bien,'floor']=df.loc[df['property_type']==bien,'floor'].fillna((df[df['property_type']==bien]['floor']).mean())\n",
    "    df.loc[df['property_type']==bien,'floor']=df.loc[df['property_type']==bien,'floor'].fillna(0.0)"
   ]
  },
  {
   "cell_type": "code",
   "execution_count": 18,
   "metadata": {
    "id": "0bM7da2rIVpA",
    "outputId": "5f574ff6-4b97-4f04-be51-8050efc5b38e"
   },
   "outputs": [
    {
     "data": {
      "text/plain": [
       "<AxesSubplot: >"
      ]
     },
     "execution_count": 18,
     "metadata": {},
     "output_type": "execute_result"
    },
    {
     "data": {
      "image/png": "[encoded data removed]",
      "text/plain": [
       "<Figure size 640x480 with 1 Axes>"
      ]
     },
     "metadata": {},
     "output_type": "display_data"
    }
   ],
   "source": [
    "sns.heatmap(df.isna(),cbar=False)"
   ]
  },
  {
   "cell_type": "code",
   "execution_count": 19,
   "metadata": {
    "id": "20y7JpxtIVpB",
    "outputId": "05e45961-cf20-4cbf-96a9-8c00e3d674b1"
   },
   "outputs": [
    {
     "name": "stdout",
     "output_type": "stream",
     "text": [
      "id_annonce                   0.000000\n",
      "has_air_conditioning         0.000000\n",
      "has_a_garage                 0.000000\n",
      "has_a_cellar                 0.000000\n",
      "nb_terraces                  0.000000\n",
      "has_a_balcony                0.000000\n",
      "nb_boxes                     0.000000\n",
      "nb_parking_places            0.000000\n",
      "last_floor                   0.000000\n",
      "upper_floors                 0.000000\n",
      "approximate_longitude        0.000000\n",
      "approximate_latitude         0.000000\n",
      "property_type                0.000000\n",
      "price                        0.000000\n",
      "size                         1.370156\n",
      "nb_rooms                     4.190751\n",
      "nb_bathrooms                 6.674160\n",
      "nb_bedrooms                  7.313744\n",
      "floor                       16.417791\n",
      "land_size                   17.929779\n",
      "energy_performance_value    48.972383\n",
      "ghg_value                   50.412117\n",
      "dtype: float64\n"
     ]
    }
   ],
   "source": [
    "\"\"\" % de NaN par colonne\"\"\"\n",
    "print((df.isna().sum()*100/df.shape[0]).sort_values(ascending=True))"
   ]
  },
  {
   "cell_type": "markdown",
   "metadata": {
    "id": "wvi1Vcb8IVpB"
   },
   "source": [
    "On enlève les données énergétique et d'émission :"
   ]
  },
  {
   "cell_type": "code",
   "execution_count": 20,
   "metadata": {
    "id": "cHVPjc9eIVpB"
   },
   "outputs": [],
   "source": [
    "df.drop(columns=['energy_performance_value','ghg_value'],inplace=True)"
   ]
  },
  {
   "cell_type": "code",
   "execution_count": 21,
   "metadata": {
    "id": "jKLwz6HyIVpC"
   },
   "outputs": [],
   "source": [
    "for bien in type_biens:\n",
    "\n",
    "    df.loc[df['property_type']==bien,'land_size']=df.loc[df['property_type']==bien,'land_size'].fillna((df[df['property_type']==bien]['land_size']).mean())\n",
    "    df.loc[df['property_type']==bien,'land_size']=df.loc[df['property_type']==bien,'land_size'].fillna(0.0)"
   ]
  },
  {
   "cell_type": "code",
   "execution_count": 22,
   "metadata": {
    "id": "6J8dH0OiIVpC",
    "outputId": "24d5edde-8c9f-4c19-a0a5-9ab979aca911"
   },
   "outputs": [
    {
     "name": "stdout",
     "output_type": "stream",
     "text": [
      "id_annonce                0.000000\n",
      "has_air_conditioning      0.000000\n",
      "has_a_garage              0.000000\n",
      "has_a_cellar              0.000000\n",
      "nb_terraces               0.000000\n",
      "has_a_balcony             0.000000\n",
      "nb_boxes                  0.000000\n",
      "nb_parking_places         0.000000\n",
      "last_floor                0.000000\n",
      "upper_floors              0.000000\n",
      "land_size                 0.000000\n",
      "approximate_longitude     0.000000\n",
      "approximate_latitude      0.000000\n",
      "property_type             0.000000\n",
      "price                     0.000000\n",
      "size                      1.370156\n",
      "nb_rooms                  4.190751\n",
      "nb_bathrooms              6.674160\n",
      "nb_bedrooms               7.313744\n",
      "floor                    16.417791\n",
      "dtype: float64\n"
     ]
    }
   ],
   "source": [
    "\"\"\" % de NaN par colonne\"\"\"\n",
    "print((df.isna().sum()*100/df.shape[0]).sort_values(ascending=True))"
   ]
  },
  {
   "cell_type": "code",
   "execution_count": 23,
   "metadata": {
    "id": "zF205xaxIVpC"
   },
   "outputs": [
    {
     "data": {
      "text/plain": [
       "<AxesSubplot: >"
      ]
     },
     "execution_count": 23,
     "metadata": {},
     "output_type": "execute_result"
    },
    {
     "data": {
      "image/png": "[encoded data removed]",
      "text/plain": [
       "<Figure size 640x480 with 1 Axes>"
      ]
     },
     "metadata": {},
     "output_type": "display_data"
    }
   ],
   "source": [
    "sns.heatmap(df.isna(),cbar=False)"
   ]
  },
  {
   "cell_type": "markdown",
   "metadata": {
    "id": "VvQPlTG2IVpC"
   },
   "source": [
    "On enlève toutes les lignes avec des valeurs manquantes, cela nous permet de garder une bonne partie du dataset de départ "
   ]
  },
  {
   "cell_type": "code",
   "execution_count": 24,
   "metadata": {
    "id": "81r5sQ9NIVpD",
    "outputId": "c79a68e6-1f0a-4691-bd18-d67401199d72"
   },
   "outputs": [],
   "source": [
    "# df=df.dropna()\n",
    "# df.shape[0]"
   ]
  },
  {
   "cell_type": "code",
   "execution_count": 25,
   "metadata": {
    "id": "nDaF-9L2IVpD",
    "outputId": "2500175b-2de8-4eed-ab47-e5ca314e54f1"
   },
   "outputs": [
    {
     "name": "stdout",
     "output_type": "stream",
     "text": [
      "id_annonce                0.000000\n",
      "has_air_conditioning      0.000000\n",
      "has_a_garage              0.000000\n",
      "has_a_cellar              0.000000\n",
      "nb_terraces               0.000000\n",
      "has_a_balcony             0.000000\n",
      "nb_boxes                  0.000000\n",
      "nb_parking_places         0.000000\n",
      "last_floor                0.000000\n",
      "upper_floors              0.000000\n",
      "land_size                 0.000000\n",
      "approximate_longitude     0.000000\n",
      "approximate_latitude      0.000000\n",
      "property_type             0.000000\n",
      "price                     0.000000\n",
      "size                      1.370156\n",
      "nb_rooms                  4.190751\n",
      "nb_bathrooms              6.674160\n",
      "nb_bedrooms               7.313744\n",
      "floor                    16.417791\n",
      "dtype: float64\n"
     ]
    }
   ],
   "source": [
    "\"\"\" % de NaN par colonne\"\"\"\n",
    "print((df.isna().sum()*100/df.shape[0]).sort_values(ascending=True))"
   ]
  },
  {
   "cell_type": "markdown",
   "metadata": {
    "id": "UfI5dWouIVpD"
   },
   "source": [
    "### Encodage"
   ]
  },
  {
   "cell_type": "code",
   "execution_count": 26,
   "metadata": {
    "id": "GbyYWCj9IVpD"
   },
   "outputs": [],
   "source": [
    "df.set_index('id_annonce',inplace=True)"
   ]
  },
  {
   "cell_type": "code",
   "execution_count": 27,
   "metadata": {
    "id": "rpnRpNjeIVpE",
    "outputId": "dcb3f746-e16e-414a-cf22-7c3fd1633a8f"
   },
   "outputs": [
    {
     "data": {
      "text/plain": [
       "price                    float64\n",
       "property_type             object\n",
       "approximate_latitude     float64\n",
       "approximate_longitude    float64\n",
       "size                     float64\n",
       "floor                    float64\n",
       "land_size                float64\n",
       "nb_rooms                 float64\n",
       "nb_bedrooms              float64\n",
       "nb_bathrooms             float64\n",
       "nb_parking_places        float64\n",
       "nb_boxes                 float64\n",
       "has_a_balcony            float64\n",
       "nb_terraces              float64\n",
       "has_a_cellar             float64\n",
       "has_a_garage             float64\n",
       "has_air_conditioning     float64\n",
       "last_floor               float64\n",
       "upper_floors             float64\n",
       "dtype: object"
      ]
     },
     "execution_count": 27,
     "metadata": {},
     "output_type": "execute_result"
    }
   ],
   "source": [
    "df.dtypes"
   ]
  },
  {
   "cell_type": "code",
   "execution_count": 28,
   "metadata": {
    "id": "uDbctUGOIVpE",
    "outputId": "fa579b55-4f09-4125-cd97-8343d972b735"
   },
   "outputs": [
    {
     "name": "stdout",
     "output_type": "stream",
     "text": [
      "price                    1.000000\n",
      "nb_rooms                 0.311138\n",
      "nb_bedrooms              0.298589\n",
      "nb_bathrooms             0.181214\n",
      "has_a_cellar             0.141069\n",
      "nb_terraces              0.129738\n",
      "floor                    0.103781\n",
      "approximate_longitude    0.095404\n",
      "nb_parking_places        0.064793\n",
      "has_a_balcony            0.062426\n",
      "has_air_conditioning     0.056811\n",
      "last_floor               0.048400\n",
      "has_a_garage             0.040821\n",
      "approximate_latitude     0.034801\n",
      "size                     0.034289\n",
      "land_size                0.032336\n",
      "nb_boxes                 0.030988\n",
      "upper_floors            -0.005540\n",
      "Name: price, dtype: float64\n"
     ]
    }
   ],
   "source": [
    "# calculer la matrice de corrélation et extraire la colonne \"price\"\n",
    "corr_price = df.corr()['price']\n",
    "\n",
    "# trier les corrélations par ordre croissant\n",
    "corr_price_sorted = corr_price.sort_values(ascending=False)\n",
    "\n",
    "# afficher les corrélations triées\n",
    "print(corr_price_sorted)"
   ]
  },
  {
   "cell_type": "code",
   "execution_count": 29,
   "metadata": {
    "id": "kQVDFrz5IVpE",
    "outputId": "5869b343-7789-4aad-b5f6-38638d37a401"
   },
   "outputs": [
    {
     "data": {
      "text/plain": [
       "<AxesSubplot: >"
      ]
     },
     "execution_count": 29,
     "metadata": {},
     "output_type": "execute_result"
    },
    {
     "data": {
      "image/png": "[encoded data removed]",
      "text/plain": [
       "<Figure size 640x480 with 2 Axes>"
      ]
     },
     "metadata": {},
     "output_type": "display_data"
    }
   ],
   "source": [
    "sns.heatmap(df.corr())"
   ]
  },
  {
   "cell_type": "markdown",
   "metadata": {
    "id": "mZKk_Mj0IVpE"
   },
   "source": [
    "On encode les valeurs de type de propriété :"
   ]
  },
  {
   "cell_type": "code",
   "execution_count": 30,
   "metadata": {
    "id": "iXUIXaXcIVpF",
    "tags": []
   },
   "outputs": [],
   "source": [
    "df=pd.get_dummies(df,columns=['property_type'])\n"
   ]
  },
  {
   "cell_type": "code",
   "execution_count": 31,
   "metadata": {
    "id": "SQjFt1erIVpF",
    "outputId": "d127b8b4-373f-4dbe-984b-642204d82868"
   },
   "outputs": [
    {
     "data": {
      "text/plain": [
       "price                              float64\n",
       "approximate_latitude               float64\n",
       "approximate_longitude              float64\n",
       "size                               float64\n",
       "floor                              float64\n",
       "land_size                          float64\n",
       "nb_rooms                           float64\n",
       "nb_bedrooms                        float64\n",
       "nb_bathrooms                       float64\n",
       "nb_parking_places                  float64\n",
       "nb_boxes                           float64\n",
       "has_a_balcony                      float64\n",
       "nb_terraces                        float64\n",
       "has_a_cellar                       float64\n",
       "has_a_garage                       float64\n",
       "has_air_conditioning               float64\n",
       "last_floor                         float64\n",
       "upper_floors                       float64\n",
       "property_type_appartement            uint8\n",
       "property_type_atelier                uint8\n",
       "property_type_chalet                 uint8\n",
       "property_type_chambre                uint8\n",
       "property_type_château                uint8\n",
       "property_type_divers                 uint8\n",
       "property_type_duplex                 uint8\n",
       "property_type_ferme                  uint8\n",
       "property_type_gîte                   uint8\n",
       "property_type_hôtel                  uint8\n",
       "property_type_hôtel particulier      uint8\n",
       "property_type_loft                   uint8\n",
       "property_type_maison                 uint8\n",
       "property_type_manoir                 uint8\n",
       "property_type_moulin                 uint8\n",
       "property_type_parking                uint8\n",
       "property_type_propriété              uint8\n",
       "property_type_péniche                uint8\n",
       "property_type_terrain                uint8\n",
       "property_type_terrain à bâtir        uint8\n",
       "property_type_viager                 uint8\n",
       "property_type_villa                  uint8\n",
       "dtype: object"
      ]
     },
     "execution_count": 31,
     "metadata": {},
     "output_type": "execute_result"
    }
   ],
   "source": [
    "df.dtypes"
   ]
  },
  {
   "cell_type": "code",
   "execution_count": 33,
   "metadata": {},
   "outputs": [
    {
     "name": "stderr",
     "output_type": "stream",
     "text": [
      "100%|███████| 100/100 [01:28<00:00,  1.13it/s]\n"
     ]
    }
   ],
   "source": [
    "from sklearn.impute import KNNImputer\n",
    "from tqdm import tqdm\n",
    "for i in tqdm(range(100)):\n",
    "    # votre code ici\n",
    "\n",
    "    imputer = KNNImputer(n_neighbors=5)\n",
    "    imputer.fit_transform(df)\n",
    "    df=df.fillna(df.mean())"
   ]
  },
  {
   "cell_type": "code",
   "execution_count": null,
   "metadata": {},
   "outputs": [],
   "source": [
    "\"\"\" % de NaN par colonne\"\"\"\n",
    "print((df.isna().sum()*100/df.shape[0]).sort_values(ascending=True))"
   ]
  },
  {
   "cell_type": "code",
   "execution_count": null,
   "metadata": {},
   "outputs": [],
   "source": [
    "sns.heatmap(df.isna(),cbar=False)"
   ]
  },
  {
   "cell_type": "markdown",
   "metadata": {
    "id": "8rUvC0oPIVpF"
   },
   "source": [
    "## Modèles :"
   ]
  },
  {
   "cell_type": "code",
   "execution_count": null,
   "metadata": {
    "id": "nxfPE3qRIVpG"
   },
   "outputs": [],
   "source": [
    "X = df.drop(columns=['price'])\n",
    "y = np.log(df['price'])"
   ]
  },
  {
   "cell_type": "code",
   "execution_count": null,
   "metadata": {},
   "outputs": [],
   "source": [
    "sns.displot(y)"
   ]
  },
  {
   "cell_type": "code",
   "execution_count": null,
   "metadata": {
    "id": "MJu7SriOIVpG"
   },
   "outputs": [],
   "source": [
    "# On split les données\n",
    "from sklearn.model_selection import train_test_split\n",
    "\n",
    "X_train,X_test,y_train,y_test = train_test_split(X,y,test_size=0.2)"
   ]
  },
  {
   "cell_type": "code",
   "execution_count": null,
   "metadata": {},
   "outputs": [],
   "source": [
    "X_train"
   ]
  },
  {
   "cell_type": "markdown",
   "metadata": {
    "id": "GzNlLj-OIVpG"
   },
   "source": [
    "### Regression Linéaire"
   ]
  },
  {
   "cell_type": "code",
   "execution_count": null,
   "metadata": {
    "id": "MuFxXAWTIVpG"
   },
   "outputs": [],
   "source": [
    "from sklearn.linear_model import Ridge"
   ]
  },
  {
   "cell_type": "code",
   "execution_count": null,
   "metadata": {
    "id": "UUrYB8yNIVpG",
    "outputId": "006c9589-8353-4e89-f007-36e0f80191d2"
   },
   "outputs": [],
   "source": [
    "linear_regression = Ridge(alpha=1)\n",
    "\n",
    "linear_regression.fit(X_train,y_train)"
   ]
  },
  {
   "cell_type": "code",
   "execution_count": null,
   "metadata": {
    "id": "-BI1jhNcIVpH",
    "outputId": "aeb76d99-9402-4137-c723-5ea499fdf35f"
   },
   "outputs": [],
   "source": [
    "linear_regression.intercept_ # Valeur à l'origine"
   ]
  },
  {
   "cell_type": "code",
   "execution_count": null,
   "metadata": {
    "id": "CJjnk9j2IVpH",
    "outputId": "bbc0b158-74ff-467e-a923-64742635149f"
   },
   "outputs": [],
   "source": [
    "linear_regression.coef_ # Coefficients"
   ]
  },
  {
   "cell_type": "code",
   "execution_count": null,
   "metadata": {
    "id": "oKHhNEQCIVpH",
    "outputId": "f3370e37-c3f7-4765-8586-616e5b95e8f8"
   },
   "outputs": [],
   "source": [
    "from sklearn.metrics import r2_score\n",
    "from sklearn.metrics import mean_squared_error as mse \n",
    "from sklearn.metrics import mean_absolute_error as mae\n",
    "\n",
    "y_pred = linear_regression.predict(X_test)\n",
    "\n",
    "#print('mean squared error =',mse(y_test, y_pred))\n",
    "print('mean absolute error =',mae(y_test, y_pred))\n",
    "print('r2 score =', r2_score(y_test, y_pred))"
   ]
  },
  {
   "cell_type": "code",
   "execution_count": null,
   "metadata": {
    "id": "mvlwHHtSIVpH",
    "outputId": "362c9269-4242-48bc-9c92-b8981fe9fc88"
   },
   "outputs": [],
   "source": [
    "moy_prix=y_test.mean()\n",
    "y_naif = pd.DataFrame(moy_prix*np.ones(y_test.shape[0]))\n",
    "\n",
    "#print('mean squared error =',mse(y_test, y_pred))\n",
    "print('mean absolute error =',mae(y_test, y_naif))\n",
    "print('r2 score =', r2_score(y_test, y_naif))"
   ]
  },
  {
   "cell_type": "markdown",
   "metadata": {
    "id": "oHy4sgE3IVpI"
   },
   "source": [
    "### Trees\n"
   ]
  },
  {
   "cell_type": "markdown",
   "metadata": {
    "id": "sfHK6-GPIVpI"
   },
   "source": [
    "#### Simple tree"
   ]
  },
  {
   "cell_type": "code",
   "execution_count": null,
   "metadata": {
    "id": "5YRNln69IVpI",
    "outputId": "9074f440-091c-4b93-9a0d-615df5481afe"
   },
   "outputs": [],
   "source": [
    "from sklearn.tree import DecisionTreeRegressor\n",
    "\n",
    "tree = DecisionTreeRegressor()\n",
    "\n",
    "tree.fit(X_train,y_train)"
   ]
  },
  {
   "cell_type": "code",
   "execution_count": null,
   "metadata": {
    "id": "LfxqRC4kIVpI",
    "outputId": "09ee6ee2-472e-4017-da85-66dfd058e762"
   },
   "outputs": [],
   "source": [
    "y_pred = tree.predict(X_test)\n",
    "\n",
    "#print('mean squared error =',mse(y_test, y_pred))\n",
    "print('mean absolute error =',mae(y_test, y_pred))\n",
    "print('r2 score =', r2_score(y_test, y_pred))"
   ]
  },
  {
   "cell_type": "markdown",
   "metadata": {
    "id": "bFbv5BA2IVpJ"
   },
   "source": [
    "#### Optimized tree"
   ]
  },
  {
   "cell_type": "markdown",
   "metadata": {
    "id": "b1zYiYHwIVpJ"
   },
   "source": [
    "L'idée est d'utiliser le GridSearchCV pour trouver les meilleurs paramètres"
   ]
  },
  {
   "cell_type": "code",
   "execution_count": null,
   "metadata": {
    "id": "5g_ihTy3IVpJ"
   },
   "outputs": [],
   "source": [
    "# # Paramètres à tester\n",
    "\n",
    "# parameters = {'criterion':[\"squared_error\", \"friedman_mse\", \"absolute_error\", \"poisson\"],\n",
    "#               'max_depth': [None, 2, 25, 50, 100, 500, 1000]}"
   ]
  },
  {
   "cell_type": "code",
   "execution_count": null,
   "metadata": {
    "id": "01h7BV7qIVpJ",
    "outputId": "e9b05b05-3c55-46d8-cfcf-e72b678d9f79",
    "tags": []
   },
   "outputs": [],
   "source": [
    "from sklearn.model_selection import GridSearchCV\n",
    "\n",
    "# tree_1 = DecisionTreeRegressor()\n",
    "# grid = GridSearchCV(tree_1, parameters)\n",
    "\n",
    "# grid.fit(X_train, y_train)"
   ]
  },
  {
   "cell_type": "code",
   "execution_count": null,
   "metadata": {
    "id": "7dv6dFF2IVpK",
    "outputId": "fdb6e073-60e2-4951-e274-f35bfd61c8e0",
    "tags": []
   },
   "outputs": [],
   "source": [
    "# pd.DataFrame(grid.cv_results_)"
   ]
  },
  {
   "cell_type": "code",
   "execution_count": null,
   "metadata": {
    "id": "fCxH93yMIVpK",
    "outputId": "a19955da-934b-418b-cd6e-6bbb0f16053a"
   },
   "outputs": [],
   "source": [
    "# grid.best_params_"
   ]
  },
  {
   "cell_type": "code",
   "execution_count": null,
   "metadata": {
    "id": "aD8S7VlUIVpK",
    "outputId": "3319403d-8038-4c20-cc2f-98f017a83d56"
   },
   "outputs": [],
   "source": [
    "# y_pred = grid.best_estimator_.predict(X_test)\n",
    "\n",
    "# #print('mean squared error =',mse(y_test, y_pred))\n",
    "# print('mean absolute error =',mae(y_test, y_pred))\n",
    "# print('r2 score =', r2_score(y_test, y_pred))"
   ]
  },
  {
   "cell_type": "markdown",
   "metadata": {
    "id": "P78VhooDIVpK"
   },
   "source": [
    "### Random Forests"
   ]
  },
  {
   "cell_type": "code",
   "execution_count": null,
   "metadata": {
    "id": "rqxBwQBcIVpL",
    "outputId": "94a7a77d-d9d6-4863-aaf4-359517eb1d54"
   },
   "outputs": [],
   "source": [
    "# from sklearn.ensemble import RandomForestRegressor\n",
    "\n",
    "# random_forest = RandomForestRegressor()\n",
    "# random_forest.fit(X_train, y_train)"
   ]
  },
  {
   "cell_type": "code",
   "execution_count": null,
   "metadata": {
    "id": "hl61qOCVIVpL",
    "outputId": "f9e43f3e-e462-41b5-bca8-339bf9997ae6"
   },
   "outputs": [],
   "source": [
    "# y_pred = random_forest.predict(X_test)\n",
    "\n",
    "# #print('mean squared error =',mse(y_test, y_pred))\n",
    "# print('mean absolute error =',mae(y_test, y_pred))\n",
    "# print('r2 score =', r2_score(y_test, y_pred))"
   ]
  },
  {
   "cell_type": "code",
   "execution_count": null,
   "metadata": {},
   "outputs": [],
   "source": [
    "# pd.DataFrame(y_test)"
   ]
  },
  {
   "cell_type": "code",
   "execution_count": null,
   "metadata": {},
   "outputs": [],
   "source": [
    "from sklearn.metrics import mean_absolute_percentage_error\n",
    "\n",
    "def custom_metric_function(y_true, y_pred):\n",
    "    return mean_absolute_percentage_error(np.exp(y_true), np.exp(y_pred))*100\n",
    "\n",
    "print(custom_metric_function(y_test, y_pred))"
   ]
  },
  {
   "cell_type": "markdown",
   "metadata": {
    "id": "ft0RkoC9IVpL"
   },
   "source": [
    "#### Random Forest with Best Params"
   ]
  },
  {
   "cell_type": "code",
   "execution_count": null,
   "metadata": {
    "id": "QgR4tmonIVpM"
   },
   "outputs": [],
   "source": [
    "# #The number of trees in the forest.\n",
    "# #parameters = {'n_estimators' : [25,50,100,200]} # Devient très long pour plus de 200\n",
    "# parameters={'bootstrap': [True, False],\n",
    "#  'criterion' : ['absolute_error'],\n",
    "#  'max_depth': [10, 50,  100, None],\n",
    "#  'min_samples_leaf': [1, 2, 4],\n",
    "#  'min_samples_split': [2, 5, 10],\n",
    "#  'n_estimators': [50, 100, 200]}"
   ]
  },
  {
   "cell_type": "code",
   "execution_count": null,
   "metadata": {
    "id": "WghE4dWrIVpM",
    "outputId": "fc24d3e1-15a1-400f-826f-e999c02eae1b",
    "tags": []
   },
   "outputs": [],
   "source": [
    "# random_forest_1 = RandomForestRegressor()\n",
    "# grid = GridSearchCV(random_forest_1, parameters)\n",
    "\n",
    "# grid.fit(X_train, y_train)"
   ]
  },
  {
   "cell_type": "code",
   "execution_count": null,
   "metadata": {
    "id": "dYuIXy6xIVpM",
    "outputId": "a37d392f-e10a-4535-a34f-041c9d4494be"
   },
   "outputs": [],
   "source": [
    "# grid.best_params_"
   ]
  },
  {
   "cell_type": "code",
   "execution_count": null,
   "metadata": {},
   "outputs": [],
   "source": [
    "# X_test.shape"
   ]
  },
  {
   "cell_type": "code",
   "execution_count": null,
   "metadata": {},
   "outputs": [],
   "source": [
    "# random_forest_2 = RandomForestRegressor()"
   ]
  },
  {
   "cell_type": "code",
   "execution_count": null,
   "metadata": {},
   "outputs": [],
   "source": [
    "# random_forest_2.fit(X_train, y_train)"
   ]
  },
  {
   "cell_type": "code",
   "execution_count": null,
   "metadata": {
    "id": "l6xpDIAEIVpM",
    "outputId": "b23fd397-f24d-47c6-956e-5d69fedec2aa",
    "tags": []
   },
   "outputs": [],
   "source": [
    "# #y_pred = grid.best_estimator_.predict(X_test)\n",
    "\n",
    "# #print('mean squared error =',mse(y_test, y_pred))\n",
    "# #print('mean absolute error =',mae(y_test, y_pred))\n",
    "# #print('r2 score =', r2_score(y_test, y_pred))\n",
    "\n",
    "# y_pred = random_forest_2.predict(X_test)\n",
    "\n",
    "# print(custom_metric_function(y_test, y_pred))"
   ]
  },
  {
   "cell_type": "markdown",
   "metadata": {
    "id": "gqgGknx_IVpN"
   },
   "source": [
    "### XGBoost"
   ]
  },
  {
   "cell_type": "code",
   "execution_count": null,
   "metadata": {},
   "outputs": [],
   "source": [
    "#pip install xgboost"
   ]
  },
  {
   "cell_type": "code",
   "execution_count": null,
   "metadata": {
    "id": "oyuSjWfHIVpN",
    "tags": []
   },
   "outputs": [],
   "source": [
    "# import xgboost as xgb\n",
    "# params = { 'max_depth': [3,6,10],\n",
    "#            'learning_rate': [0.01, 0.05, 0.1],\n",
    "#            'n_estimators': [100, 200, 300],\n",
    "#            'colsample_bytree': [0.3, 0.7]}\n",
    "# xgbr = xgb.XGBRegressor(seed = 20)\n",
    "# clf = GridSearchCV(estimator=xgbr, \n",
    "#                    param_grid=params,\n",
    "#                    scoring='neg_mean_squared_error', \n",
    "#                    verbose=1)\n",
    "# clf.fit(X_train, y_train)\n"
   ]
  },
  {
   "cell_type": "code",
   "execution_count": null,
   "metadata": {},
   "outputs": [],
   "source": [
    "# y_pred = clf.predict(X_test)\n",
    "# print('mean absolute error =',mae(y_test, y_pred))\n",
    "# print('r2 score =', r2_score(y_test, y_pred))"
   ]
  },
  {
   "cell_type": "code",
   "execution_count": null,
   "metadata": {},
   "outputs": [],
   "source": [
    "# clf.best_params_"
   ]
  },
  {
   "cell_type": "code",
   "execution_count": null,
   "metadata": {},
   "outputs": [],
   "source": [
    "# y_pred=clf.best_estimator_.predict(X_test)\n",
    "\n",
    "# print(custom_metric_function(y_test, y_pred))"
   ]
  },
  {
   "cell_type": "markdown",
   "metadata": {},
   "source": [
    "# Comparaison modèles"
   ]
  },
  {
   "cell_type": "code",
   "execution_count": null,
   "metadata": {},
   "outputs": [],
   "source": [
    "from sklearn.linear_model import LinearRegression, Ridge, Lasso, ElasticNet\n",
    "from sklearn.metrics import mean_absolute_error as mae\n",
    "from sklearn.neighbors import KNeighborsRegressor\n",
    "from sklearn.neighbors import LocalOutlierFactor\n",
    "from sklearn.neural_network import MLPRegressor\n",
    "from sklearn.svm import SVR\n",
    "from sklearn.tree import DecisionTreeRegressor\n",
    "from xgboost import XGBRegressor\n",
    "from sklearn.ensemble import RandomForestRegressor, GradientBoostingRegressor\n",
    "#from lightgbm import LGBMRegressor"
   ]
  },
  {
   "cell_type": "code",
   "execution_count": null,
   "metadata": {},
   "outputs": [],
   "source": [
    "models = [('LR', LinearRegression()),\n",
    "          (\"Ridge\", Ridge()),\n",
    "          (\"Lasso\", Lasso()),\n",
    "          (\"ElasticNet\", ElasticNet()),\n",
    "          ('KNN', KNeighborsRegressor()),\n",
    "          ('CART', DecisionTreeRegressor()),\n",
    "          ('RF', RandomForestRegressor()),\n",
    "          #('SVR', SVR()),\n",
    "          ('GBM', GradientBoostingRegressor()),\n",
    "          (\"XGBoost\", XGBRegressor(objective='reg:squarederror'))]\n",
    "#          (\"LightGBM\", LGBMRegressor())]"
   ]
  },
  {
   "cell_type": "code",
   "execution_count": null,
   "metadata": {},
   "outputs": [],
   "source": [
    "from sklearn.metrics import mean_absolute_error as mae\n",
    "for name, regressor in models:\n",
    "    regressor.fit(X_train, y_train)\n",
    "    y_pred = regressor.predict(X_test)\n",
    "    error = custom_metric_function(y_test, y_pred)\n",
    "    print('Score for {reg} = {score_mae}'.format(reg=name, score_mae=str(error)))"
   ]
  },
  {
   "cell_type": "markdown",
   "metadata": {},
   "source": [
    "# Test Final"
   ]
  },
  {
   "cell_type": "code",
   "execution_count": null,
   "metadata": {
    "tags": []
   },
   "outputs": [],
   "source": [
    "Xfinal = pd.read_csv('X_test_BEhvxAN.csv')"
   ]
  },
  {
   "cell_type": "markdown",
   "metadata": {
    "id": "9lLsQHpJIVo5"
   },
   "source": [
    "On enlève les paramètres que l'on juge moins utiles (on va utiliser lat et long au lieu de la ville/code postal)."
   ]
  },
  {
   "cell_type": "code",
   "execution_count": null,
   "metadata": {
    "id": "bm81peguIVo5"
   },
   "outputs": [],
   "source": [
    "Xfinal=Xfinal.drop(columns=['city','postal_code','energy_performance_category','ghg_category','exposition','nb_photos'])\n"
   ]
  },
  {
   "cell_type": "code",
   "execution_count": null,
   "metadata": {
    "id": "m9I0i4clIVo6",
    "outputId": "834133ed-f971-4976-dca7-807fa7e2c313"
   },
   "outputs": [],
   "source": [
    "Xfinal.head()"
   ]
  },
  {
   "cell_type": "markdown",
   "metadata": {
    "id": "ve3dmAG4IVo7"
   },
   "source": [
    "On fixe l'étage à 0 pour les maisons :"
   ]
  },
  {
   "cell_type": "code",
   "execution_count": null,
   "metadata": {
    "id": "jnEEtzDlIVo7",
    "outputId": "9c891fac-ce57-48c6-bb67-a98c9ce56eb4",
    "tags": []
   },
   "outputs": [],
   "source": [
    "Xfinal[Xfinal['property_type']==\"maison\"]=Xfinal[Xfinal['property_type']==\"maison\"].assign(floor=0.0)\n",
    "Xfinal[Xfinal['property_type']==\"maison\"].loc[:,'floor']"
   ]
  },
  {
   "cell_type": "markdown",
   "metadata": {
    "id": "_WMAmilKIVo8"
   },
   "source": [
    "On fixe le land_size des appartement à la size."
   ]
  },
  {
   "cell_type": "code",
   "execution_count": null,
   "metadata": {
    "id": "DjjnA4jHIVo8"
   },
   "outputs": [],
   "source": [
    "Xfinal.loc[Xfinal['property_type']==\"appartement\",'land_size']=Xfinal.loc[Xfinal['property_type']==\"appartement\",'land_size'].fillna(0)"
   ]
  },
  {
   "cell_type": "code",
   "execution_count": null,
   "metadata": {
    "id": "GRZXo61MIVo8",
    "outputId": "33d6f22d-fb81-4eee-e92a-f764773c1a0e"
   },
   "outputs": [],
   "source": [
    "\"\"\" % de NaN par colonne du dtf avec uniquement les appartements\"\"\"\n",
    "print((Xfinal[Xfinal['property_type']==\"appartement\"].isna().sum()*100/Xfinal[Xfinal['property_type']==\"appartement\"].shape[0]).sort_values(ascending=True))"
   ]
  },
  {
   "cell_type": "code",
   "execution_count": null,
   "metadata": {
    "id": "2Yf9DvMTIVo9",
    "outputId": "1e2a9918-899f-4dbf-8343-591ab9349386"
   },
   "outputs": [],
   "source": [
    "\"\"\" % de NaN par colonne du dtf total\"\"\"\n",
    "print((Xfinal.isna().sum()*100/Xfinal.shape[0]).sort_values(ascending=True))\n",
    "#sns.heatmap(df[df['property_type']==\"appartement\"].isna(),cbar=False)"
   ]
  },
  {
   "cell_type": "markdown",
   "metadata": {
    "id": "Xdbn4KSrIVo9"
   },
   "source": [
    "On choisit, pour les appartements où le nombre de salles de bains n'est pas spécifié, de fixer ce nombre à 1."
   ]
  },
  {
   "cell_type": "code",
   "execution_count": null,
   "metadata": {
    "id": "WXyGipeOIVo-"
   },
   "outputs": [],
   "source": [
    "Xfinal.loc[Xfinal['property_type']==\"maison\",'nb_bathrooms']=Xfinal.loc[Xfinal['property_type']==\"maison\",'nb_bathrooms'].fillna(1)\n",
    "Xfinal.loc[Xfinal['property_type']==\"appartement\",'nb_bathrooms']=Xfinal.loc[Xfinal['property_type']==\"appartement\",'nb_bathrooms'].fillna(1)"
   ]
  },
  {
   "cell_type": "code",
   "execution_count": null,
   "metadata": {
    "id": "S79gYDmAIVo-",
    "outputId": "96d663cd-4e39-426a-a998-30cdd4ce5a58",
    "tags": []
   },
   "outputs": [],
   "source": [
    "sns.heatmap(Xfinal[Xfinal['property_type']==\"appartement\"].isna(),cbar=False)"
   ]
  },
  {
   "cell_type": "code",
   "execution_count": null,
   "metadata": {
    "id": "ZuUILD1RIVo_",
    "outputId": "a5fe41f0-b6e9-4fdf-893c-c1358a6e3b4d"
   },
   "outputs": [],
   "source": [
    "\"\"\" % de NaN par colonne du dtf total\"\"\"\n",
    "print((Xfinal.isna().sum()*100/Xfinal.shape[0]).sort_values(ascending=True))"
   ]
  },
  {
   "cell_type": "code",
   "execution_count": null,
   "metadata": {
    "id": "8kq5IithIVo_",
    "outputId": "5feefb37-0c02-478a-e42a-83ea0d84703c"
   },
   "outputs": [],
   "source": [
    "\n",
    "Xfinal[Xfinal['property_type']=='appartement']['floor'].value_counts().plot.pie()"
   ]
  },
  {
   "cell_type": "code",
   "execution_count": null,
   "metadata": {
    "id": "PXFAkH0wIVo_",
    "outputId": "1e228b84-3003-4648-d7c4-116212172f52"
   },
   "outputs": [],
   "source": [
    "Xfinal[Xfinal['property_type']=='appartement']['floor'].plot()"
   ]
  },
  {
   "cell_type": "markdown",
   "metadata": {
    "id": "ijDSU0rtIVpA"
   },
   "source": [
    "(Peut-être ajouter d'autres spécificités sur la moyenne)"
   ]
  },
  {
   "cell_type": "code",
   "execution_count": null,
   "metadata": {
    "id": "vCnQDIirIVpA"
   },
   "outputs": [],
   "source": [
    "type_biens=list(set(list(Xfinal['property_type'].values)))\n",
    "type_biens.remove('appartement')\n",
    "for bien in type_biens:\n",
    "#    if df[df['property_type']==\"appartement\"]['floor'].mean()= np.nan:\n",
    "    Xfinal.loc[Xfinal['property_type']==bien,'floor']=Xfinal.loc[Xfinal['property_type']==bien,'floor'].fillna((Xfinal[Xfinal['property_type']==bien]['floor']).mean())\n",
    "    Xfinal.loc[Xfinal['property_type']==bien,'floor']=Xfinal.loc[Xfinal['property_type']==bien,'floor'].fillna(0.0)"
   ]
  },
  {
   "cell_type": "code",
   "execution_count": null,
   "metadata": {
    "id": "0bM7da2rIVpA",
    "outputId": "5f574ff6-4b97-4f04-be51-8050efc5b38e"
   },
   "outputs": [],
   "source": [
    "sns.heatmap(Xfinal.isna(),cbar=False)"
   ]
  },
  {
   "cell_type": "code",
   "execution_count": null,
   "metadata": {
    "id": "20y7JpxtIVpB",
    "outputId": "05e45961-cf20-4cbf-96a9-8c00e3d674b1"
   },
   "outputs": [],
   "source": [
    "\"\"\" % de NaN par colonne\"\"\"\n",
    "print((Xfinal.isna().sum()*100/Xfinal.shape[0]).sort_values(ascending=True))"
   ]
  },
  {
   "cell_type": "markdown",
   "metadata": {
    "id": "wvi1Vcb8IVpB"
   },
   "source": [
    "On enlève les données énergétique et d'émission :"
   ]
  },
  {
   "cell_type": "code",
   "execution_count": null,
   "metadata": {
    "id": "cHVPjc9eIVpB"
   },
   "outputs": [],
   "source": [
    "Xfinal.drop(columns=['energy_performance_value','ghg_value'],inplace=True)"
   ]
  },
  {
   "cell_type": "code",
   "execution_count": null,
   "metadata": {
    "id": "jKLwz6HyIVpC"
   },
   "outputs": [],
   "source": [
    "for bien in type_biens:\n",
    "\n",
    "    Xfinal.loc[Xfinal['property_type']==bien,'land_size']=Xfinal.loc[Xfinal['property_type']==bien,'land_size'].fillna((Xfinal[Xfinal['property_type']==bien]['land_size']).mean())\n",
    "    Xfinal.loc[Xfinal['property_type']==bien,'land_size']=Xfinal.loc[Xfinal['property_type']==bien,'land_size'].fillna(0.0)"
   ]
  },
  {
   "cell_type": "code",
   "execution_count": null,
   "metadata": {
    "id": "6J8dH0OiIVpC",
    "outputId": "24d5edde-8c9f-4c19-a0a5-9ab979aca911"
   },
   "outputs": [],
   "source": [
    "\"\"\" % de NaN par colonne\"\"\"\n",
    "print((Xfinal.isna().sum()*100/Xfinal.shape[0]).sort_values(ascending=True))"
   ]
  },
  {
   "cell_type": "code",
   "execution_count": null,
   "metadata": {
    "id": "zF205xaxIVpC"
   },
   "outputs": [],
   "source": [
    "sns.heatmap(Xfinal.isna(),cbar=False)"
   ]
  },
  {
   "cell_type": "markdown",
   "metadata": {
    "id": "VvQPlTG2IVpC"
   },
   "source": [
    "On enlève toutes les lignes avec des valeurs manquantes, cela nous permet de garder une bonne partie du dataset de départ "
   ]
  },
  {
   "cell_type": "code",
   "execution_count": null,
   "metadata": {
    "id": "81r5sQ9NIVpD",
    "outputId": "c79a68e6-1f0a-4691-bd18-d67401199d72"
   },
   "outputs": [],
   "source": [
    "Xfinal=Xfinal.dropna()\n",
    "Xfinal.shape[0]"
   ]
  },
  {
   "cell_type": "code",
   "execution_count": null,
   "metadata": {
    "id": "nDaF-9L2IVpD",
    "outputId": "2500175b-2de8-4eed-ab47-e5ca314e54f1"
   },
   "outputs": [],
   "source": [
    "\"\"\" % de NaN par colonne\"\"\"\n",
    "print((Xfinal.isna().sum()*100/Xfinal.shape[0]).sort_values(ascending=True))"
   ]
  },
  {
   "cell_type": "markdown",
   "metadata": {
    "id": "UfI5dWouIVpD"
   },
   "source": [
    "### Encodage"
   ]
  },
  {
   "cell_type": "code",
   "execution_count": null,
   "metadata": {
    "id": "GbyYWCj9IVpD"
   },
   "outputs": [],
   "source": [
    "Xfinal.set_index('id_annonce',inplace=True)"
   ]
  },
  {
   "cell_type": "code",
   "execution_count": null,
   "metadata": {
    "id": "rpnRpNjeIVpE",
    "outputId": "dcb3f746-e16e-414a-cf22-7c3fd1633a8f"
   },
   "outputs": [],
   "source": [
    "Xfinal.dtypes"
   ]
  },
  {
   "cell_type": "markdown",
   "metadata": {
    "id": "mZKk_Mj0IVpE"
   },
   "source": [
    "On encode les valeurs de type de propriété :"
   ]
  },
  {
   "cell_type": "code",
   "execution_count": null,
   "metadata": {
    "id": "iXUIXaXcIVpF",
    "tags": []
   },
   "outputs": [],
   "source": [
    "Xfinal=pd.get_dummies(Xfinal,columns=['property_type'])\n"
   ]
  },
  {
   "cell_type": "code",
   "execution_count": null,
   "metadata": {
    "id": "SQjFt1erIVpF",
    "outputId": "d127b8b4-373f-4dbe-984b-642204d82868"
   },
   "outputs": [],
   "source": [
    "Xfinal"
   ]
  },
  {
   "cell_type": "code",
   "execution_count": null,
   "metadata": {
    "id": "oFk-N4e6IVpF",
    "outputId": "533dd6f7-0c88-460e-d5cf-cb25cf277dab"
   },
   "outputs": [],
   "source": [
    "Xfinal.columns"
   ]
  },
  {
   "cell_type": "code",
   "execution_count": null,
   "metadata": {},
   "outputs": [],
   "source": [
    "y_pred_final=clf.best_estimator_.predict(Xfinal)\n"
   ]
  }
 ],
 "metadata": {
  "colab": {
   "provenance": []
  },
  "kernelspec": {
   "display_name": "Python 3 (ipykernel)",
   "language": "python",
   "name": "python3"
  },
  "language_info": {
   "codemirror_mode": {
    "name": "ipython",
    "version": 3
   },
   "file_extension": ".py",
   "mimetype": "text/x-python",
   "name": "python",
   "nbconvert_exporter": "python",
   "pygments_lexer": "ipython3",
   "version": "3.9.13"
  }
 },
 "nbformat": 4,
 "nbformat_minor": 4
}
