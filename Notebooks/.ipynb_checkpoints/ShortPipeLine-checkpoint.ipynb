{
 "cells": [
  {
   "cell_type": "markdown",
   "metadata": {
    "id": "rGWVl6NgcjjA"
   },
   "source": [
    "# Machine Learning : Projet Real Estate\n",
    "\n",
    "### Tree and Random Forest\n",
    "\n",
    "##### Membres : Zakaria Kabara - Valentin Lhote - Omar Mousteau - Marijan Sorić"
   ]
  },
  {
   "cell_type": "code",
   "execution_count": 1,
   "metadata": {
    "id": "IGyseBlFcxXV"
   },
   "outputs": [],
   "source": [
    "import pandas as pd\n",
    "import numpy as np\n",
    "import matplotlib.pyplot as plt\n",
    "import seaborn as sns\n",
    "import sklearn\n",
    "#import tensorflow as tf\n",
    "import random\n",
    "from sklearn.impute import KNNImputer\n",
    "from tqdm import tqdm"
   ]
  },
  {
   "cell_type": "code",
   "execution_count": 2,
   "metadata": {},
   "outputs": [],
   "source": [
    "from sklearn.metrics import r2_score\n",
    "from sklearn.metrics import mean_squared_error as mse \n",
    "from sklearn.metrics import mean_absolute_error as mae\n",
    "from sklearn.model_selection import GridSearchCV\n",
    "from sklearn.model_selection import RandomizedSearchCV\n",
    "from sklearn.preprocessing import RobustScaler\n",
    "from sklearn.feature_selection import SelectKBest\n",
    "from sklearn.feature_selection import chi2\n",
    "from sklearn.feature_selection import f_regression"
   ]
  },
  {
   "cell_type": "markdown",
   "metadata": {
    "id": "8rUvC0oPIVpF"
   },
   "source": [
    "## Modèles :"
   ]
  },
  {
   "cell_type": "code",
   "execution_count": 3,
   "metadata": {
    "colab": {
     "base_uri": "https://localhost:8080/",
     "height": 380
    },
    "id": "4YUiICwSc6Tc",
    "outputId": "89794ef3-7f34-411d-b282-bb010c958d20",
    "tags": []
   },
   "outputs": [],
   "source": [
    "X = pd.read_csv('X_train.csv')\n",
    "Xfinal = pd.read_csv('X_test.csv')\n",
    "y = pd.read_csv('y_test.csv')"
   ]
  },
  {
   "cell_type": "code",
   "execution_count": 7,
   "metadata": {},
   "outputs": [],
   "source": [
    "X.set_index('id_annonce',inplace=True)\n",
    "Xfinal.set_index('id_annonce',inplace=True)\n",
    "y.set_index('id_annonce',inplace=True)"
   ]
  },
  {
   "cell_type": "code",
   "execution_count": 8,
   "metadata": {},
   "outputs": [
    {
     "name": "stdout",
     "output_type": "stream",
     "text": [
      "['nb_rooms', 'nb_bedrooms', 'nb_bathrooms', 'nb_parking_places', 'nb_photos', 'nb_terraces', 'property_type_appartement', 'property_type_terrain', 'property_type_terrain à bâtir', 'city']\n"
     ]
    },
    {
     "name": "stderr",
     "output_type": "stream",
     "text": [
      "/Users/marijansoric/opt/anaconda3/lib/python3.9/site-packages/sklearn/utils/validation.py:1143: DataConversionWarning: A column-vector y was passed when a 1d array was expected. Please change the shape of y to (n_samples, ), for example using ravel().\n",
      "  y = column_or_1d(y, warn=True)\n"
     ]
    }
   ],
   "source": [
    "# Sélection des 10 meilleures caractéristiques\n",
    "selector = SelectKBest(f_regression, k=10)\n",
    "selector.fit(X, y)\n",
    "\n",
    "# Affichage des noms des colonnes sélectionnées\n",
    "feature_names = list(X.columns[selector.get_support()])\n",
    "print(feature_names)"
   ]
  },
  {
   "cell_type": "code",
   "execution_count": 9,
   "metadata": {},
   "outputs": [],
   "source": [
    "# On split les données\n",
    "from sklearn.model_selection import train_test_split\n",
    "X_train,X_test,y_train,y_test = train_test_split(X,y,test_size=0.2)\n",
    "\n",
    "# métriques\n",
    "from sklearn.metrics import mean_absolute_percentage_error\n",
    "def custom_metric_function(y_true, y_pred):\n",
    "    return mean_absolute_percentage_error(np.exp(y_true), np.exp(y_pred))*100\n",
    "\n",
    "from sklearn.metrics import make_scorer\n",
    "custom_score=make_scorer(custom_metric_function, greater_is_better=False)"
   ]
  },
  {
   "cell_type": "markdown",
   "metadata": {},
   "source": [
    "# Comparaison Modèles"
   ]
  },
  {
   "cell_type": "code",
   "execution_count": 10,
   "metadata": {},
   "outputs": [
    {
     "ename": "ModuleNotFoundError",
     "evalue": "No module named 'xgboost'",
     "output_type": "error",
     "traceback": [
      "\u001b[0;31m---------------------------------------------------------------------------\u001b[0m",
      "\u001b[0;31mModuleNotFoundError\u001b[0m                       Traceback (most recent call last)",
      "\u001b[0;32m/var/folders/c6/6v_rvxyj6rj6m70q6t5cvn3w0000gn/T/ipykernel_92187/3029771097.py\u001b[0m in \u001b[0;36m<module>\u001b[0;34m\u001b[0m\n\u001b[1;32m      7\u001b[0m \u001b[0;32mfrom\u001b[0m \u001b[0msklearn\u001b[0m\u001b[0;34m.\u001b[0m\u001b[0mensemble\u001b[0m \u001b[0;32mimport\u001b[0m \u001b[0mAdaBoostRegressor\u001b[0m\u001b[0;34m\u001b[0m\u001b[0;34m\u001b[0m\u001b[0m\n\u001b[1;32m      8\u001b[0m \u001b[0;32mfrom\u001b[0m \u001b[0msklearn\u001b[0m\u001b[0;34m.\u001b[0m\u001b[0mtree\u001b[0m \u001b[0;32mimport\u001b[0m \u001b[0mDecisionTreeRegressor\u001b[0m\u001b[0;34m\u001b[0m\u001b[0;34m\u001b[0m\u001b[0m\n\u001b[0;32m----> 9\u001b[0;31m \u001b[0;32mfrom\u001b[0m \u001b[0mxgboost\u001b[0m \u001b[0;32mimport\u001b[0m \u001b[0mXGBRegressor\u001b[0m\u001b[0;34m\u001b[0m\u001b[0;34m\u001b[0m\u001b[0m\n\u001b[0m\u001b[1;32m     10\u001b[0m \u001b[0;32mfrom\u001b[0m \u001b[0msklearn\u001b[0m\u001b[0;34m.\u001b[0m\u001b[0mensemble\u001b[0m \u001b[0;32mimport\u001b[0m \u001b[0mRandomForestRegressor\u001b[0m\u001b[0;34m,\u001b[0m \u001b[0mGradientBoostingRegressor\u001b[0m\u001b[0;34m\u001b[0m\u001b[0;34m\u001b[0m\u001b[0m\n\u001b[1;32m     11\u001b[0m \u001b[0;32mfrom\u001b[0m \u001b[0msklearn\u001b[0m\u001b[0;34m.\u001b[0m\u001b[0mmetrics\u001b[0m \u001b[0;32mimport\u001b[0m \u001b[0mmean_absolute_error\u001b[0m \u001b[0;32mas\u001b[0m \u001b[0mmae\u001b[0m\u001b[0;34m\u001b[0m\u001b[0;34m\u001b[0m\u001b[0m\n",
      "\u001b[0;31mModuleNotFoundError\u001b[0m: No module named 'xgboost'"
     ]
    }
   ],
   "source": [
    "from sklearn.linear_model import LinearRegression, Ridge, Lasso, ElasticNet\n",
    "from sklearn.metrics import mean_absolute_error as mae\n",
    "from sklearn.neighbors import KNeighborsRegressor\n",
    "from sklearn.neighbors import LocalOutlierFactor\n",
    "from sklearn.neural_network import MLPRegressor\n",
    "from sklearn.svm import SVR\n",
    "from sklearn.ensemble import AdaBoostRegressor\n",
    "from sklearn.tree import DecisionTreeRegressor\n",
    "from xgboost import XGBRegressor\n",
    "from sklearn.ensemble import RandomForestRegressor, GradientBoostingRegressor\n",
    "from sklearn.metrics import mean_absolute_error as mae\n",
    "#from lightgbm import LGBMRegressor\n",
    "\n",
    "#commentés lorsqu'ils sont longs à train pour la boucle en dessous\n",
    "models = [('LR', LinearRegression()),\n",
    "          (\"Ridge\", Ridge()),\n",
    "          (\"Lasso\", Lasso()),\n",
    "          (\"ElasticNet\", ElasticNet()),\n",
    "          ('KNN', KNeighborsRegressor()),\n",
    "          ('CART', DecisionTreeRegressor()),\n",
    "          ('RF', RandomForestRegressor()),\n",
    "          ('ADA', AdaBoostRegressor()),\n",
    "          #('SVR', SVR()),\n",
    "          ('GBM', GradientBoostingRegressor()),\n",
    "          (\"XGBoost\", XGBRegressor(objective='reg:squarederror'))]\n",
    "            #(\"LightGBM\", LGBMRegressor())]\n",
    "    \n",
    "\n",
    "for name, regressor in models:\n",
    "    regressor.fit(X_train, y_train)\n",
    "    y_pred = regressor.predict(X_test)\n",
    "    error = custom_metric_function(y_test, y_pred)\n",
    "    print('Score for {reg} = {score_mae}'.format(reg=name, score_mae=str(error)))"
   ]
  },
  {
   "cell_type": "markdown",
   "metadata": {
    "id": "oHy4sgE3IVpI"
   },
   "source": [
    "### Exemple de modèle simple"
   ]
  },
  {
   "cell_type": "code",
   "execution_count": 11,
   "metadata": {},
   "outputs": [],
   "source": [
    "from sklearn.ensemble import GradientBoostingRegressor"
   ]
  },
  {
   "cell_type": "code",
   "execution_count": 12,
   "metadata": {},
   "outputs": [
    {
     "name": "stderr",
     "output_type": "stream",
     "text": [
      "/Users/marijansoric/opt/anaconda3/lib/python3.9/site-packages/sklearn/ensemble/_gb.py:437: DataConversionWarning: A column-vector y was passed when a 1d array was expected. Please change the shape of y to (n_samples, ), for example using ravel().\n",
      "  y = column_or_1d(y, warn=True)\n"
     ]
    }
   ],
   "source": [
    "model = GradientBoostingRegressor()\n",
    "model.fit(X_train,y_train)\n",
    "y_pred_ = model.predict(X_test)"
   ]
  },
  {
   "cell_type": "code",
   "execution_count": 13,
   "metadata": {},
   "outputs": [
    {
     "name": "stdout",
     "output_type": "stream",
     "text": [
      "39.6683207448077 pourcentage d erreurs\n"
     ]
    }
   ],
   "source": [
    "print(custom_metric_function((y_test), (y_pred_)),'pourcentage d erreurs')"
   ]
  },
  {
   "cell_type": "code",
   "execution_count": 14,
   "metadata": {},
   "outputs": [
    {
     "data": {
      "text/plain": [
       "<Figure size 800x600 with 0 Axes>"
      ]
     },
     "metadata": {},
     "output_type": "display_data"
    },
    {
     "data": {
      "image/png": "[encoded data removed]",
      "text/plain": [
       "<Figure size 800x600 with 1 Axes>"
      ]
     },
     "metadata": {},
     "output_type": "display_data"
    }
   ],
   "source": [
    "plt.figure(figsize=(8, 6))\n",
    "#xgb.plot_importance(xgbr, importance_type='gain')\n",
    "\n",
    "# Extraire les 10 variables les plus importantes\n",
    "importance = model.feature_importances_\n",
    "indices = importance.argsort()[-10:][::-1]\n",
    "top_10_names = [X_train.columns[i] for i in indices]\n",
    "top_10_importance = importance[indices]\n",
    "\n",
    "# Afficher l'importance des 10 variables les plus importantes\n",
    "plt.figure(figsize=(8, 6))\n",
    "plt.barh(range(len(top_10_importance)), top_10_importance, align='center')\n",
    "plt.yticks(range(len(top_10_importance)), top_10_names)\n",
    "plt.xlabel('Importance')\n",
    "plt.ylabel('Variables')\n",
    "plt.title('10 Variables les plus importantes')\n",
    "plt.show()"
   ]
  },
  {
   "cell_type": "markdown",
   "metadata": {
    "id": "oHy4sgE3IVpI"
   },
   "source": [
    "### XGB"
   ]
  },
  {
   "cell_type": "code",
   "execution_count": null,
   "metadata": {},
   "outputs": [],
   "source": [
    "import xgboost as xgb\n",
    "from sklearn.model_selection import RandomizedSearchCV\n",
    "# test Marijan\n",
    "params = { 'max_depth': [3,6,9,12],\n",
    "           'learning_rate': [0.1,0.2,0.3,0.4,0.5],\n",
    "        #   'n_estimators': [300,400],\n",
    "          #  'seed':[5,10,20]}\n",
    "          'min_split_loss' : [0, 0.3,0.5,0.7],\n",
    "          'subsample' : [0.4,0.5,0.6,0.8,1]}\n",
    "\"\"\"\"parametres={'learning_rate': 0.07, 'max_depth': 13, 'n_estimators': 400, 'seed': 10}\"\"\"\n",
    "\"\"\"{'learning_rate': 0.08, 'max_depth': 13, 'n_estimators': 400, 'seed': 5}\"\"\"\n",
    "#xgbr = xgb.XGBRegressor(learning_rate= 0.08, max_depth= 13, n_estimators= 400, seed=5)\n",
    "\n",
    "clf = GridSearchCV(estimator=xgbr, \n",
    "                   param_grid=params,\n",
    "                   scoring=custom_score, \n",
    "                   verbose=1,\n",
    "                  cv=4)\n",
    "\n",
    "\n",
    "# clf = RandomizedSearchCV(estimator=xgbr, \n",
    "#                    param_distributions=params,\n",
    "#                    scoring=custom_score, \n",
    "#                    verbose=1,\n",
    "#                    cv=4,\n",
    "#                    n_iter=100)\n",
    "\n",
    "\n",
    "xgbr.fit(X_train, y_train)\n"
   ]
  },
  {
   "cell_type": "raw",
   "metadata": {},
   "source": [
    "import xgboost as xgb\n",
    "from sklearn.model_selection import RandomizedSearchCV\n",
    "\n",
    "params = { 'max_depth': [13,15,17],\n",
    "           'learning_rate': [0.08],\n",
    "           'n_estimators': [300,400],\n",
    "            'seed':[5,10,20]}\n",
    "\"\"\"\"parametres={'learning_rate': 0.07, 'max_depth': 13, 'n_estimators': 400, 'seed': 10}\"\"\"\n",
    "\"\"\"{'learning_rate': 0.08, 'max_depth': 13, 'n_estimators': 400, 'seed': 5}\"\"\"\n",
    "xgbr = xgb.XGBRegressor(learning_rate= 0.08, max_depth= 13, n_estimators= 400, seed=5)\n",
    "\n",
    "clf = GridSearchCV(estimator=xgbr, \n",
    "                   param_grid=params,\n",
    "                   scoring=custom_score, \n",
    "                   verbose=1,\n",
    "                  cv=4)\n",
    "\n",
    "\n",
    "# clf = RandomizedSearchCV(estimator=xgbr, \n",
    "#                    param_distributions=params,\n",
    "#                    scoring=custom_score, \n",
    "#                    verbose=1,\n",
    "#                    cv=4,\n",
    "#                    n_iter=100)\n",
    "\n",
    "\n",
    "xgbr.fit(X_train, y_train)\n"
   ]
  },
  {
   "cell_type": "code",
   "execution_count": null,
   "metadata": {},
   "outputs": [],
   "source": [
    "#clf.best_params_"
   ]
  },
  {
   "cell_type": "code",
   "execution_count": null,
   "metadata": {},
   "outputs": [],
   "source": [
    "y_pred=clf.best_estimator_.predict(X_test)\n",
    "y_pred=xgbr.predict(X_test)\n",
    "print('Score challenge=',custom_metric_function(y_test, y_pred))\n",
    "print('R2=',r2_score(y_test,y_pred))"
   ]
  },
  {
   "cell_type": "markdown",
   "metadata": {
    "id": "P78VhooDIVpK"
   },
   "source": [
    "### Rendre la solution"
   ]
  },
  {
   "cell_type": "markdown",
   "metadata": {},
   "source": [
    "On appelle modèle le modèle final, hyper-paramétré. "
   ]
  },
  {
   "cell_type": "code",
   "execution_count": 15,
   "metadata": {
    "id": "hl61qOCVIVpL",
    "outputId": "f9e43f3e-e462-41b5-bca8-339bf9997ae6"
   },
   "outputs": [
    {
     "name": "stderr",
     "output_type": "stream",
     "text": [
      "/Users/marijansoric/opt/anaconda3/lib/python3.9/site-packages/sklearn/ensemble/_gb.py:437: DataConversionWarning: A column-vector y was passed when a 1d array was expected. Please change the shape of y to (n_samples, ), for example using ravel().\n",
      "  y = column_or_1d(y, warn=True)\n"
     ]
    }
   ],
   "source": [
    "# On l'entraîne sur la totalité du jeu d'entraînement (X,y)\n",
    "\n",
    "model.fit(X,y)\n",
    "\n",
    "# Prédiction finale sur le X test\n",
    "y_pred_final= model.predict(Xfinal)\n",
    "\n",
    "# Attention il faut bien passer au log avant de donner la solution\n",
    "y_pred_final = np.exp(y_pred_final)\n"
   ]
  },
  {
   "cell_type": "code",
   "execution_count": 16,
   "metadata": {},
   "outputs": [
    {
     "data": {
      "text/plain": [
       "<seaborn.axisgrid.FacetGrid at 0x7f9011b3c5b0>"
      ]
     },
     "execution_count": 16,
     "metadata": {},
     "output_type": "execute_result"
    },
    {
     "data": {
      "image/png": "[encoded data removed]",
      "text/plain": [
       "<Figure size 500x500 with 1 Axes>"
      ]
     },
     "metadata": {},
     "output_type": "display_data"
    }
   ],
   "source": [
    "sns.displot(y_pred_final)"
   ]
  },
  {
   "cell_type": "code",
   "execution_count": 25,
   "metadata": {},
   "outputs": [
    {
     "data": {
      "text/html": [
       "<div>\n",
       "<style scoped>\n",
       "    .dataframe tbody tr th:only-of-type {\n",
       "        vertical-align: middle;\n",
       "    }\n",
       "\n",
       "    .dataframe tbody tr th {\n",
       "        vertical-align: top;\n",
       "    }\n",
       "\n",
       "    .dataframe thead th {\n",
       "        text-align: right;\n",
       "    }\n",
       "</style>\n",
       "<table border=\"1\" class=\"dataframe\">\n",
       "  <thead>\n",
       "    <tr style=\"text-align: right;\">\n",
       "      <th></th>\n",
       "      <th>0</th>\n",
       "    </tr>\n",
       "    <tr>\n",
       "      <th>id_annonce</th>\n",
       "      <th></th>\n",
       "    </tr>\n",
       "  </thead>\n",
       "  <tbody>\n",
       "    <tr>\n",
       "      <th>35160615</th>\n",
       "      <td>252705.790241</td>\n",
       "    </tr>\n",
       "    <tr>\n",
       "      <th>35830639</th>\n",
       "      <td>998093.911751</td>\n",
       "    </tr>\n",
       "    <tr>\n",
       "      <th>36016657</th>\n",
       "      <td>240332.441002</td>\n",
       "    </tr>\n",
       "    <tr>\n",
       "      <th>35759225</th>\n",
       "      <td>278922.475488</td>\n",
       "    </tr>\n",
       "    <tr>\n",
       "      <th>35252229</th>\n",
       "      <td>269406.984325</td>\n",
       "    </tr>\n",
       "    <tr>\n",
       "      <th>...</th>\n",
       "      <td>...</td>\n",
       "    </tr>\n",
       "    <tr>\n",
       "      <th>36052217</th>\n",
       "      <td>446809.124765</td>\n",
       "    </tr>\n",
       "    <tr>\n",
       "      <th>35823719</th>\n",
       "      <td>293665.461103</td>\n",
       "    </tr>\n",
       "    <tr>\n",
       "      <th>35793053</th>\n",
       "      <td>233802.679319</td>\n",
       "    </tr>\n",
       "    <tr>\n",
       "      <th>36049283</th>\n",
       "      <td>377082.189887</td>\n",
       "    </tr>\n",
       "    <tr>\n",
       "      <th>35853753</th>\n",
       "      <td>379389.169646</td>\n",
       "    </tr>\n",
       "  </tbody>\n",
       "</table>\n",
       "<p>9339 rows × 1 columns</p>\n",
       "</div>"
      ],
      "text/plain": [
       "                        0\n",
       "id_annonce               \n",
       "35160615    252705.790241\n",
       "35830639    998093.911751\n",
       "36016657    240332.441002\n",
       "35759225    278922.475488\n",
       "35252229    269406.984325\n",
       "...                   ...\n",
       "36052217    446809.124765\n",
       "35823719    293665.461103\n",
       "35793053    233802.679319\n",
       "36049283    377082.189887\n",
       "35853753    379389.169646\n",
       "\n",
       "[9339 rows x 1 columns]"
      ]
     },
     "execution_count": 25,
     "metadata": {},
     "output_type": "execute_result"
    }
   ],
   "source": [
    "y_pred_final = pd.DataFrame(y_pred_final)\n",
    "y_pred_final.set_index(Xfinal.index, inplace=True)\n",
    "y_pred_final.rename(columns={y_pred_final.columns[0]: \"price\"}, inplace=True)"
   ]
  },
  {
   "cell_type": "markdown",
   "metadata": {},
   "source": [
    "# Attention à bien changer le nom du fichier avant de l'enregister !\n",
    "# Ici c'est 'y_solution3-ms.csv'"
   ]
  },
  {
   "cell_type": "code",
   "execution_count": null,
   "metadata": {},
   "outputs": [],
   "source": [
    "#On enregistre en .csv\n",
    "y_pred_final=pd.DataFrame(y_pred_final)\n",
    "y_pred_final.to_csv('y_solution3-ms.csv',index=True, decimal=',')"
   ]
  },
  {
   "cell_type": "markdown",
   "metadata": {
    "id": "P78VhooDIVpK"
   },
   "source": [
    "### Random Forests"
   ]
  },
  {
   "cell_type": "code",
   "execution_count": null,
   "metadata": {
    "id": "rqxBwQBcIVpL",
    "outputId": "94a7a77d-d9d6-4863-aaf4-359517eb1d54"
   },
   "outputs": [],
   "source": [
    "# from sklearn.ensemble import RandomForestRegressor\n",
    "\n",
    "# random_forest = RandomForestRegressor()\n",
    "# random_forest.fit(X_train, y_train)"
   ]
  },
  {
   "cell_type": "code",
   "execution_count": null,
   "metadata": {},
   "outputs": [],
   "source": [
    "# from sklearn.metrics import mean_absolute_percentage_error\n",
    "\n",
    "# def custom_metric_function(y_true, y_pred):\n",
    "#     return mean_absolute_percentage_error(y_true, y_pred)*100\n",
    "\n",
    "# print(custom_metric_function(y_test, y_pred))"
   ]
  },
  {
   "cell_type": "markdown",
   "metadata": {
    "id": "ft0RkoC9IVpL"
   },
   "source": [
    "#### Random Forest with Best Params"
   ]
  },
  {
   "cell_type": "code",
   "execution_count": null,
   "metadata": {
    "id": "QgR4tmonIVpM"
   },
   "outputs": [],
   "source": [
    "# #The number of trees in the forest.\n",
    "# #parameters = {'n_estimators' : [25,50,100,200]} # Devient très long pour plus de 200\n",
    "# parameters={'bootstrap': [True, False],\n",
    "#  'criterion' : ['absolute_error'],\n",
    "#  'max_depth': [10, 50,  100, None],\n",
    "#  'min_samples_leaf': [1, 2, 4],\n",
    "#  'min_samples_split': [2, 5, 10],\n",
    "#  'n_estimators': [50, 100, 200]}"
   ]
  },
  {
   "cell_type": "code",
   "execution_count": null,
   "metadata": {
    "id": "WghE4dWrIVpM",
    "outputId": "fc24d3e1-15a1-400f-826f-e999c02eae1b",
    "tags": []
   },
   "outputs": [],
   "source": [
    "# random_forest_1 = RandomForestRegressor()\n",
    "# grid = GridSearchCV(random_forest_1, parameters)\n",
    "\n",
    "# grid.fit(X_train, y_train)"
   ]
  },
  {
   "cell_type": "markdown",
   "metadata": {
    "id": "gqgGknx_IVpN"
   },
   "source": [
    "### XGBoost"
   ]
  },
  {
   "cell_type": "code",
   "execution_count": null,
   "metadata": {},
   "outputs": [],
   "source": [
    "#pip install xgboost"
   ]
  },
  {
   "cell_type": "code",
   "execution_count": null,
   "metadata": {
    "tags": []
   },
   "outputs": [],
   "source": [
    "# #from xgboost import XGBRegressor\n",
    "# from sklearn.ensemble import GradientBoostingRegressor\n",
    "# from sklearn.metrics import mean_absolute_percentage_error\n",
    "\n",
    "# def custom_metric_function(y_true, y_pred):\n",
    "#     return mean_absolute_percentage_error(np.exp(y_true), np.exp(y_pred))*100\n",
    "\n",
    "# XGB = GradientBoostingRegressor()\n",
    "# XGB.fit(X_train, y_train)\n",
    "# y_pred = XGB.predict(X_test)\n",
    "# error = custom_metric_function(y_test, y_pred)\n",
    "# print('Score : '+error*100+'%')"
   ]
  },
  {
   "cell_type": "code",
   "execution_count": null,
   "metadata": {},
   "outputs": [],
   "source": [
    "# y_train.to_csv('my_data.csv', index=True)"
   ]
  },
  {
   "cell_type": "code",
   "execution_count": null,
   "metadata": {},
   "outputs": [],
   "source": [
    "# X_train=pd.DataFrame(X_train, dtype='float64')"
   ]
  },
  {
   "cell_type": "code",
   "execution_count": null,
   "metadata": {
    "id": "oyuSjWfHIVpN",
    "tags": []
   },
   "outputs": [],
   "source": [
    "# import xgboost as xgb\n",
    "# params = { 'max_depth': [3,6,10],\n",
    "#            'learning_rate': [0.01, 0.05, 0.1],\n",
    "#            'n_estimators': [100, 200, 300],\n",
    "#            'colsample_bytree': [0.3, 0.7]}\n",
    "# xgbr = xgb.XGBRegressor(seed = 20)\n",
    "# clf = GridSearchCV(estimator=xgbr, \n",
    "#                    param_grid=params,\n",
    "#                    scoring='neg_mean_squared_error', \n",
    "#                    verbose=1)\n",
    "# clf.fit(X_train, y_train)\n"
   ]
  },
  {
   "cell_type": "code",
   "execution_count": null,
   "metadata": {},
   "outputs": [],
   "source": [
    "# y_pred = clf.predict(X_test)\n",
    "# print('mean absolute error =',mae(y_test, y_pred))\n",
    "# print('r2 score =', r2_score(y_test, y_pred))"
   ]
  },
  {
   "cell_type": "code",
   "execution_count": null,
   "metadata": {},
   "outputs": [],
   "source": [
    "# clf.best_params_"
   ]
  },
  {
   "cell_type": "code",
   "execution_count": null,
   "metadata": {},
   "outputs": [],
   "source": [
    "# y_pred=clf.best_estimator_.predict(X_test)\n",
    "\n",
    "# print(custom_metric_function(y_test, y_pred))"
   ]
  }
 ],
 "metadata": {
  "colab": {
   "provenance": []
  },
  "kernelspec": {
   "display_name": "Python 3 (ipykernel)",
   "language": "python",
   "name": "python3"
  },
  "language_info": {
   "codemirror_mode": {
    "name": "ipython",
    "version": 3
   },
   "file_extension": ".py",
   "mimetype": "text/x-python",
   "name": "python",
   "nbconvert_exporter": "python",
   "pygments_lexer": "ipython3",
   "version": "3.9.13"
  }
 },
 "nbformat": 4,
 "nbformat_minor": 4
}
