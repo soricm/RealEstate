{
 "cells": [
  {
   "cell_type": "markdown",
   "id": "814646f1-c0f0-4d92-bb91-9a749a186306",
   "metadata": {
    "id": "rGWVl6NgcjjA"
   },
   "source": [
    "# Machine Learning : Projet Real Estate\n",
    "\n",
    "### Preprocessing + (...)"
   ]
  },
  {
   "cell_type": "code",
   "execution_count": 34,
   "id": "8cc7f2ee-0c79-4ada-a05e-7a17b884f290",
   "metadata": {
    "id": "IGyseBlFcxXV"
   },
   "outputs": [],
   "source": [
    "import pandas as pd\n",
    "import numpy as np\n",
    "import matplotlib.pyplot as plt\n",
    "import seaborn as sns\n",
    "import sklearn\n",
    "import tensorflow as tf\n",
    "import keras\n",
    "import random"
   ]
  },
  {
   "cell_type": "code",
   "execution_count": 32,
   "id": "edc8cbb8-ad37-4f61-9bf8-09187ffa3ae0",
   "metadata": {},
   "outputs": [
    {
     "name": "stdout",
     "output_type": "stream",
     "text": [
      "Requirement already satisfied: sklearn in /Users/marijansoric/opt/anaconda3/lib/python3.9/site-packages (0.0.post1)\n",
      "Note: you may need to restart the kernel to use updated packages.\n"
     ]
    }
   ],
   "source": [
    "pip install sklearn"
   ]
  },
  {
   "cell_type": "code",
   "execution_count": 2,
   "id": "97bc32c5-c001-4a33-8c76-9db9fd6ddc35",
   "metadata": {
    "colab": {
     "base_uri": "https://localhost:8080/",
     "height": 380
    },
    "id": "4YUiICwSc6Tc",
    "outputId": "89794ef3-7f34-411d-b282-bb010c958d20",
    "tags": []
   },
   "outputs": [
    {
     "name": "stdout",
     "output_type": "stream",
     "text": [
      "id_annonce                       int64\n",
      "property_type                   object\n",
      "approximate_latitude           float64\n",
      "approximate_longitude          float64\n",
      "city                            object\n",
      "postal_code                      int64\n",
      "size                           float64\n",
      "floor                          float64\n",
      "land_size                      float64\n",
      "energy_performance_value       float64\n",
      "energy_performance_category     object\n",
      "ghg_value                      float64\n",
      "ghg_category                    object\n",
      "exposition                      object\n",
      "nb_rooms                       float64\n",
      "nb_bedrooms                    float64\n",
      "nb_bathrooms                   float64\n",
      "nb_parking_places              float64\n",
      "nb_boxes                       float64\n",
      "nb_photos                      float64\n",
      "has_a_balcony                  float64\n",
      "nb_terraces                    float64\n",
      "has_a_cellar                   float64\n",
      "has_a_garage                   float64\n",
      "has_air_conditioning           float64\n",
      "last_floor                     float64\n",
      "upper_floors                   float64\n",
      "dtype: object\n"
     ]
    },
    {
     "data": {
      "text/plain": [
       "(37368, 27)"
      ]
     },
     "execution_count": 2,
     "metadata": {},
     "output_type": "execute_result"
    }
   ],
   "source": [
    "X_train_path = \"X_train_J01Z4CN.csv\"   # Ouverture et conversion en dataframe du X d'entrainement\n",
    "X_train = pd.read_csv(X_train_path)\n",
    "print(X_train.dtypes) # Liste des paramètres dans le X ainsi que leur type\n",
    "X_train.shape # 5 premières lignes de la Dataframe"
   ]
  },
  {
   "cell_type": "code",
   "execution_count": 3,
   "id": "a167530f-d7c9-41c0-bb7d-e1412ce0b321",
   "metadata": {
    "colab": {
     "base_uri": "https://localhost:8080/",
     "height": 380
    },
    "id": "c6h7Z0N0c8T8",
    "outputId": "9c954988-498f-4088-a452-5623e2b63da9"
   },
   "outputs": [],
   "source": [
    "y_train_path = \"y_train_OXxrJt1.csv\"    # Ouverture et conversion en dataframe du y d'entrainement\n",
    "y_train = pd.read_csv(y_train_path)\n",
    "#y_train.head(5)"
   ]
  },
  {
   "cell_type": "code",
   "execution_count": 4,
   "id": "440a7c7a-1e16-4dc3-a231-1c7b10e694d4",
   "metadata": {
    "colab": {
     "base_uri": "https://localhost:8080/",
     "height": 200
    },
    "id": "WGvmCTvhc-0Y",
    "outputId": "7ac5d832-96fa-426b-fe2c-9f08751ccb06",
    "tags": []
   },
   "outputs": [],
   "source": [
    "\"\"\"Création d'un unique dataframe combinant les prix et les attributs de chaque bien\"\"\"\n",
    "df=X_train.copy()\n",
    "df.insert(1, 'price', y_train['price'])\n",
    "#df.head()"
   ]
  },
  {
   "cell_type": "code",
   "execution_count": 5,
   "id": "c882251c-70a6-4519-8476-c8205659ecf8",
   "metadata": {},
   "outputs": [
    {
     "data": {
      "text/plain": [
       "0    355000.0\n",
       "1    190000.0\n",
       "2     39000.0\n",
       "3    299000.0\n",
       "4    478000.0\n",
       "Name: price, dtype: float64"
      ]
     },
     "execution_count": 5,
     "metadata": {},
     "output_type": "execute_result"
    }
   ],
   "source": [
    "df['price'].head()"
   ]
  },
  {
   "cell_type": "markdown",
   "id": "2b9801c4-0ab1-49a8-8a88-c5e5a6fa37b3",
   "metadata": {},
   "source": [
    "### Preprocessing"
   ]
  },
  {
   "cell_type": "markdown",
   "id": "46ebfa22-cf77-47ac-90e7-fe8de3dc9942",
   "metadata": {},
   "source": [
    "On enlève les paramètres que l'on juge moins utiles (on va utiliser lat et long au lieu de la ville/code postal)."
   ]
  },
  {
   "cell_type": "code",
   "execution_count": 6,
   "id": "39dab0b6-802e-4856-860f-e750e4481e8c",
   "metadata": {},
   "outputs": [],
   "source": [
    "df=df.drop(columns=['city','postal_code','energy_performance_category','ghg_category','exposition','nb_photos'])"
   ]
  },
  {
   "cell_type": "markdown",
   "id": "192598c4-9bb8-4f3d-9e41-a6906e18705a",
   "metadata": {},
   "source": [
    "On fixe l'étage à 0 pour les maisons :"
   ]
  },
  {
   "cell_type": "code",
   "execution_count": 7,
   "id": "a8889f8a-3475-49e3-80c2-ce205d87faf1",
   "metadata": {
    "tags": []
   },
   "outputs": [
    {
     "data": {
      "text/plain": [
       "2        0.0\n",
       "3        0.0\n",
       "7        0.0\n",
       "8        0.0\n",
       "9        0.0\n",
       "        ... \n",
       "37351    0.0\n",
       "37355    0.0\n",
       "37356    0.0\n",
       "37357    0.0\n",
       "37367    0.0\n",
       "Name: floor, Length: 15675, dtype: float64"
      ]
     },
     "execution_count": 7,
     "metadata": {},
     "output_type": "execute_result"
    }
   ],
   "source": [
    "df[df['property_type']==\"maison\"]=df[df['property_type']==\"maison\"].assign(floor=0.0)\n",
    "df[df['property_type']==\"maison\"].loc[:,'floor']"
   ]
  },
  {
   "cell_type": "markdown",
   "id": "67797304-8cba-4df9-9820-4986637e89e0",
   "metadata": {},
   "source": [
    "On fixe le land_size des appartement à la size."
   ]
  },
  {
   "cell_type": "code",
   "execution_count": 8,
   "id": "d5468b0e-d0ce-48f0-a5ec-68388794a1b4",
   "metadata": {},
   "outputs": [],
   "source": [
    "df[df['property_type']==\"appartement\"]=df[df['property_type']==\"appartement\"].assign(land_size=0.0)"
   ]
  },
  {
   "cell_type": "code",
   "execution_count": 9,
   "id": "5f94f4ec-6bc2-4565-98f6-b4e09d72f4ee",
   "metadata": {},
   "outputs": [
    {
     "data": {
      "text/plain": [
       "0        0.0\n",
       "1        0.0\n",
       "4        0.0\n",
       "5        0.0\n",
       "6        0.0\n",
       "        ... \n",
       "37359    0.0\n",
       "37362    0.0\n",
       "37363    0.0\n",
       "37364    0.0\n",
       "37365    0.0\n",
       "Name: land_size, Length: 15733, dtype: float64"
      ]
     },
     "execution_count": 9,
     "metadata": {},
     "output_type": "execute_result"
    }
   ],
   "source": [
    "df[df['property_type']==\"appartement\"]['land_size']"
   ]
  },
  {
   "cell_type": "code",
   "execution_count": 10,
   "id": "8c60fc8a-2935-4cc9-bb60-43bf084ba09b",
   "metadata": {},
   "outputs": [
    {
     "name": "stdout",
     "output_type": "stream",
     "text": [
      "id_annonce                   0.000000\n",
      "has_air_conditioning         0.000000\n",
      "has_a_garage                 0.000000\n",
      "has_a_cellar                 0.000000\n",
      "nb_terraces                  0.000000\n",
      "has_a_balcony                0.000000\n",
      "nb_boxes                     0.000000\n",
      "nb_parking_places            0.000000\n",
      "last_floor                   0.000000\n",
      "upper_floors                 0.000000\n",
      "land_size                    0.000000\n",
      "approximate_longitude        0.000000\n",
      "approximate_latitude         0.000000\n",
      "property_type                0.000000\n",
      "price                        0.000000\n",
      "nb_rooms                     0.355940\n",
      "size                         0.648319\n",
      "nb_bedrooms                  7.131507\n",
      "nb_bathrooms                37.310113\n",
      "floor                       38.994470\n",
      "energy_performance_value    50.746838\n",
      "ghg_value                   51.840081\n",
      "dtype: float64\n"
     ]
    }
   ],
   "source": [
    "\"\"\" % de NaN par colonne\"\"\"\n",
    "print((df[df['property_type']==\"appartement\"].isna().sum()*100/df[df['property_type']==\"appartement\"].shape[0]).sort_values(ascending=True))"
   ]
  },
  {
   "cell_type": "code",
   "execution_count": 11,
   "id": "c8d4397b-9071-4fe1-8949-93934a71a55c",
   "metadata": {},
   "outputs": [
    {
     "name": "stdout",
     "output_type": "stream",
     "text": [
      "id_annonce                   0.000000\n",
      "has_air_conditioning         0.000000\n",
      "has_a_garage                 0.000000\n",
      "has_a_cellar                 0.000000\n",
      "nb_terraces                  0.000000\n",
      "has_a_balcony                0.000000\n",
      "nb_boxes                     0.000000\n",
      "nb_parking_places            0.000000\n",
      "last_floor                   0.000000\n",
      "upper_floors                 0.000000\n",
      "approximate_longitude        0.000000\n",
      "approximate_latitude         0.000000\n",
      "property_type                0.000000\n",
      "price                        0.000000\n",
      "size                         1.370156\n",
      "nb_rooms                     4.190751\n",
      "nb_bedrooms                  7.313744\n",
      "land_size                   17.929779\n",
      "floor                       31.979234\n",
      "nb_bathrooms                35.519696\n",
      "energy_performance_value    48.972383\n",
      "ghg_value                   50.412117\n",
      "dtype: float64\n"
     ]
    }
   ],
   "source": [
    "\"\"\" % de NaN par colonne\"\"\"\n",
    "print((df.isna().sum()*100/df.shape[0]).sort_values(ascending=True))"
   ]
  },
  {
   "cell_type": "markdown",
   "id": "ae1db3c1-327b-4692-989e-67f3faf926a3",
   "metadata": {},
   "source": [
    "On choisit, pour les appartements où le nombre de salles de bains n'est pas spécifié, de fixer ce nombre à 1."
   ]
  },
  {
   "cell_type": "code",
   "execution_count": 12,
   "id": "8928c521-c73e-4e85-afe6-a2225dbc7940",
   "metadata": {
    "tags": []
   },
   "outputs": [],
   "source": [
    "df[df['property_type']==\"maison\"]=df[df['property_type']==\"maison\"].assign(nb_bathrooms=1.0,inplace=True)\n",
    "df[df['property_type']==\"appartement\"]=df[df['property_type']==\"appartement\"].assign(nb_bathrooms=1.0,inplace=True)"
   ]
  },
  {
   "cell_type": "code",
   "execution_count": 13,
   "id": "079e52d1-605b-4e3f-a81f-f3085e4eb2d3",
   "metadata": {},
   "outputs": [
    {
     "name": "stdout",
     "output_type": "stream",
     "text": [
      "id_annonce                   0.000000\n",
      "has_air_conditioning         0.000000\n",
      "has_a_garage                 0.000000\n",
      "has_a_cellar                 0.000000\n",
      "nb_terraces                  0.000000\n",
      "has_a_balcony                0.000000\n",
      "nb_boxes                     0.000000\n",
      "nb_parking_places            0.000000\n",
      "last_floor                   0.000000\n",
      "upper_floors                 0.000000\n",
      "approximate_longitude        0.000000\n",
      "approximate_latitude         0.000000\n",
      "property_type                0.000000\n",
      "price                        0.000000\n",
      "size                         1.370156\n",
      "nb_rooms                     4.190751\n",
      "nb_bathrooms                 6.674160\n",
      "nb_bedrooms                  7.313744\n",
      "land_size                   17.929779\n",
      "floor                       31.979234\n",
      "energy_performance_value    48.972383\n",
      "ghg_value                   50.412117\n",
      "dtype: float64\n"
     ]
    }
   ],
   "source": [
    "\"\"\" % de NaN par colonne\"\"\"\n",
    "print((df.isna().sum()*100/df.shape[0]).sort_values(ascending=True))"
   ]
  },
  {
   "cell_type": "code",
   "execution_count": 14,
   "id": "93c8bf6d-f79f-43f7-965b-ac19eac501a5",
   "metadata": {},
   "outputs": [
    {
     "data": {
      "text/plain": [
       "<AxesSubplot: >"
      ]
     },
     "execution_count": 14,
     "metadata": {},
     "output_type": "execute_result"
    },
    {
     "data": {
      "image/png": "[encoded data removed]",
      "text/plain": [
       "<Figure size 640x480 with 1 Axes>"
      ]
     },
     "metadata": {},
     "output_type": "display_data"
    }
   ],
   "source": [
    "df[df['property_type']=='appartement']['floor'].plot()"
   ]
  },
  {
   "cell_type": "markdown",
   "id": "0f2b07ba-3a90-43f7-bb03-256e212b82e4",
   "metadata": {},
   "source": [
    "(Peut-être ajouter d'autres spécificités sur la moyenne)"
   ]
  },
  {
   "cell_type": "code",
   "execution_count": 15,
   "id": "4b6d3811-b456-4deb-8912-edaa40a2a1cd",
   "metadata": {},
   "outputs": [],
   "source": [
    "type_biens=list(set(list(df['property_type'].values)))\n",
    "type_biens.remove('appartement')\n",
    "for bien in type_biens:\n",
    "#    if df[df['property_type']==\"appartement\"]['floor'].mean()= np.nan:\n",
    "    df.loc[df['property_type']==bien,'floor']=df.loc[df['property_type']==bien,'floor'].fillna((df[df['property_type']==bien]['floor']).mean())\n",
    "    df.loc[df['property_type']==bien,'floor']=df.loc[df['property_type']==bien,'floor'].fillna(0.0)"
   ]
  },
  {
   "cell_type": "code",
   "execution_count": 16,
   "id": "4f35bc04-3838-46bc-a098-8d733e0c9693",
   "metadata": {},
   "outputs": [
    {
     "data": {
      "text/plain": [
       "26        5.195804\n",
       "97        1.000000\n",
       "172       5.195804\n",
       "178       1.000000\n",
       "280       5.195804\n",
       "           ...    \n",
       "36557     1.000000\n",
       "36639    55.000000\n",
       "36700     1.000000\n",
       "37187     2.000000\n",
       "37366     5.195804\n",
       "Name: floor, Length: 220, dtype: float64"
      ]
     },
     "execution_count": 16,
     "metadata": {},
     "output_type": "execute_result"
    }
   ],
   "source": [
    "df.loc[df['property_type']=='duplex','floor']"
   ]
  },
  {
   "cell_type": "code",
   "execution_count": 17,
   "id": "79052461-c65c-46e5-8318-0779f795d329",
   "metadata": {},
   "outputs": [
    {
     "name": "stdout",
     "output_type": "stream",
     "text": [
      "id_annonce                   0.000000\n",
      "has_air_conditioning         0.000000\n",
      "has_a_garage                 0.000000\n",
      "has_a_cellar                 0.000000\n",
      "nb_terraces                  0.000000\n",
      "has_a_balcony                0.000000\n",
      "nb_boxes                     0.000000\n",
      "nb_parking_places            0.000000\n",
      "last_floor                   0.000000\n",
      "upper_floors                 0.000000\n",
      "approximate_longitude        0.000000\n",
      "approximate_latitude         0.000000\n",
      "property_type                0.000000\n",
      "price                        0.000000\n",
      "size                         1.370156\n",
      "nb_rooms                     4.190751\n",
      "nb_bathrooms                 6.674160\n",
      "nb_bedrooms                  7.313744\n",
      "floor                       16.417791\n",
      "land_size                   17.929779\n",
      "energy_performance_value    48.972383\n",
      "ghg_value                   50.412117\n",
      "dtype: float64\n"
     ]
    }
   ],
   "source": [
    "\"\"\" % de NaN par colonne\"\"\"\n",
    "print((df.isna().sum()*100/df.shape[0]).sort_values(ascending=True))"
   ]
  },
  {
   "cell_type": "markdown",
   "id": "44a7bf8d-8c66-443d-99e4-087888ca6541",
   "metadata": {},
   "source": [
    "On enlève les données énergétique et d'émission :"
   ]
  },
  {
   "cell_type": "code",
   "execution_count": 18,
   "id": "c977a717-1c3d-4e1b-832e-9a67796c73b0",
   "metadata": {},
   "outputs": [],
   "source": [
    "df.drop(columns=['energy_performance_value','ghg_value'],inplace=True)"
   ]
  },
  {
   "cell_type": "code",
   "execution_count": 19,
   "id": "25159334-a976-48fe-99b1-b25191018da8",
   "metadata": {},
   "outputs": [],
   "source": [
    "for bien in type_biens:\n",
    "\n",
    "    df.loc[df['property_type']==bien,'land_size']=df.loc[df['property_type']==bien,'land_size'].fillna((df[df['property_type']==bien]['land_size']).mean())\n",
    "    df.loc[df['property_type']==bien,'land_size']=df.loc[df['property_type']==bien,'land_size'].fillna(0.0)"
   ]
  },
  {
   "cell_type": "code",
   "execution_count": 20,
   "id": "584fa1f9-2452-4025-bab8-7cc0b66c01c9",
   "metadata": {},
   "outputs": [
    {
     "name": "stdout",
     "output_type": "stream",
     "text": [
      "id_annonce                0.000000\n",
      "has_air_conditioning      0.000000\n",
      "has_a_garage              0.000000\n",
      "has_a_cellar              0.000000\n",
      "nb_terraces               0.000000\n",
      "has_a_balcony             0.000000\n",
      "nb_boxes                  0.000000\n",
      "nb_parking_places         0.000000\n",
      "last_floor                0.000000\n",
      "upper_floors              0.000000\n",
      "land_size                 0.000000\n",
      "approximate_longitude     0.000000\n",
      "approximate_latitude      0.000000\n",
      "property_type             0.000000\n",
      "price                     0.000000\n",
      "size                      1.370156\n",
      "nb_rooms                  4.190751\n",
      "nb_bathrooms              6.674160\n",
      "nb_bedrooms               7.313744\n",
      "floor                    16.417791\n",
      "dtype: float64\n"
     ]
    }
   ],
   "source": [
    "\"\"\" % de NaN par colonne\"\"\"\n",
    "print((df.isna().sum()*100/df.shape[0]).sort_values(ascending=True))"
   ]
  },
  {
   "cell_type": "code",
   "execution_count": 21,
   "id": "eef07dcc-a916-4f5d-b8f9-cfa03e52212e",
   "metadata": {},
   "outputs": [
    {
     "data": {
      "text/plain": [
       "37368"
      ]
     },
     "execution_count": 21,
     "metadata": {},
     "output_type": "execute_result"
    }
   ],
   "source": [
    "df.shape[0]"
   ]
  },
  {
   "cell_type": "markdown",
   "id": "ce67abc3-2744-489d-92f2-7aaedd15366f",
   "metadata": {},
   "source": [
    "Toutes les valeurs manquantes pour le floor correspondent à des appartements, on choisis de les enlever pour l'entrainement."
   ]
  },
  {
   "cell_type": "code",
   "execution_count": 22,
   "id": "c5b30e82-3e50-4515-b73b-a8084bd01fca",
   "metadata": {},
   "outputs": [
    {
     "data": {
      "text/plain": [
       "27730"
      ]
     },
     "execution_count": 22,
     "metadata": {},
     "output_type": "execute_result"
    }
   ],
   "source": [
    "df=df.dropna()\n",
    "df.shape[0]"
   ]
  },
  {
   "cell_type": "code",
   "execution_count": 23,
   "id": "9f272f5b-13b0-4a86-a45b-403c1ddda00a",
   "metadata": {},
   "outputs": [
    {
     "name": "stdout",
     "output_type": "stream",
     "text": [
      "id_annonce               0.0\n",
      "has_air_conditioning     0.0\n",
      "has_a_garage             0.0\n",
      "has_a_cellar             0.0\n",
      "nb_terraces              0.0\n",
      "has_a_balcony            0.0\n",
      "nb_boxes                 0.0\n",
      "nb_parking_places        0.0\n",
      "nb_bathrooms             0.0\n",
      "nb_bedrooms              0.0\n",
      "nb_rooms                 0.0\n",
      "land_size                0.0\n",
      "floor                    0.0\n",
      "size                     0.0\n",
      "approximate_longitude    0.0\n",
      "approximate_latitude     0.0\n",
      "property_type            0.0\n",
      "price                    0.0\n",
      "last_floor               0.0\n",
      "upper_floors             0.0\n",
      "dtype: float64\n"
     ]
    }
   ],
   "source": [
    "\"\"\" % de NaN par colonne\"\"\"\n",
    "print((df.isna().sum()*100/df.shape[0]).sort_values(ascending=True))"
   ]
  },
  {
   "cell_type": "markdown",
   "id": "78a04f27-535e-4a73-beb3-9647ffa1ebb5",
   "metadata": {},
   "source": [
    "On choisis d'enlever la ville, étant donné qu'on a le code postal"
   ]
  },
  {
   "cell_type": "markdown",
   "id": "e8cbb58b-85f8-4bc5-ab7e-77fa0094fe9b",
   "metadata": {},
   "source": [
    "### Encodage"
   ]
  },
  {
   "cell_type": "code",
   "execution_count": 24,
   "id": "e5fa8aee-bba1-4c15-9bb5-4f003d1c842f",
   "metadata": {},
   "outputs": [],
   "source": [
    "df.set_index('id_annonce',inplace=True)"
   ]
  },
  {
   "cell_type": "code",
   "execution_count": 25,
   "id": "97385497-c57e-42c8-be58-74e2426da8c1",
   "metadata": {},
   "outputs": [
    {
     "data": {
      "text/plain": [
       "price                    float64\n",
       "property_type             object\n",
       "approximate_latitude     float64\n",
       "approximate_longitude    float64\n",
       "size                     float64\n",
       "floor                    float64\n",
       "land_size                float64\n",
       "nb_rooms                 float64\n",
       "nb_bedrooms              float64\n",
       "nb_bathrooms             float64\n",
       "nb_parking_places        float64\n",
       "nb_boxes                 float64\n",
       "has_a_balcony            float64\n",
       "nb_terraces              float64\n",
       "has_a_cellar             float64\n",
       "has_a_garage             float64\n",
       "has_air_conditioning     float64\n",
       "last_floor               float64\n",
       "upper_floors             float64\n",
       "dtype: object"
      ]
     },
     "execution_count": 25,
     "metadata": {},
     "output_type": "execute_result"
    }
   ],
   "source": [
    "df.dtypes"
   ]
  },
  {
   "cell_type": "code",
   "execution_count": 26,
   "id": "e99a393f-5d4c-4317-925d-9ea1b8abeb1f",
   "metadata": {},
   "outputs": [
    {
     "data": {
      "text/plain": [
       "price                    1.000000\n",
       "approximate_latitude     0.026049\n",
       "approximate_longitude    0.114318\n",
       "size                     0.015261\n",
       "floor                    0.115925\n",
       "land_size                0.027642\n",
       "nb_rooms                 0.289252\n",
       "nb_bedrooms              0.313925\n",
       "nb_bathrooms             0.202406\n",
       "nb_parking_places        0.074233\n",
       "nb_boxes                 0.017086\n",
       "has_a_balcony            0.075653\n",
       "nb_terraces              0.127947\n",
       "has_a_cellar             0.159152\n",
       "has_a_garage             0.029625\n",
       "has_air_conditioning     0.066625\n",
       "last_floor               0.053412\n",
       "upper_floors            -0.005352\n",
       "Name: price, dtype: float64"
      ]
     },
     "execution_count": 26,
     "metadata": {},
     "output_type": "execute_result"
    }
   ],
   "source": [
    "df.corr()['price']"
   ]
  },
  {
   "cell_type": "code",
   "execution_count": 27,
   "id": "e8db6b47-0813-46a8-8f43-0acbee50f62c",
   "metadata": {
    "tags": []
   },
   "outputs": [
    {
     "data": {
      "text/html": [
       "<div>\n",
       "<style scoped>\n",
       "    .dataframe tbody tr th:only-of-type {\n",
       "        vertical-align: middle;\n",
       "    }\n",
       "\n",
       "    .dataframe tbody tr th {\n",
       "        vertical-align: top;\n",
       "    }\n",
       "\n",
       "    .dataframe thead th {\n",
       "        text-align: right;\n",
       "    }\n",
       "</style>\n",
       "<table border=\"1\" class=\"dataframe\">\n",
       "  <thead>\n",
       "    <tr style=\"text-align: right;\">\n",
       "      <th></th>\n",
       "      <th>price</th>\n",
       "      <th>property_type</th>\n",
       "      <th>approximate_latitude</th>\n",
       "      <th>approximate_longitude</th>\n",
       "      <th>size</th>\n",
       "      <th>floor</th>\n",
       "      <th>land_size</th>\n",
       "      <th>nb_rooms</th>\n",
       "      <th>nb_bedrooms</th>\n",
       "      <th>nb_bathrooms</th>\n",
       "      <th>nb_parking_places</th>\n",
       "      <th>nb_boxes</th>\n",
       "      <th>has_a_balcony</th>\n",
       "      <th>nb_terraces</th>\n",
       "      <th>has_a_cellar</th>\n",
       "      <th>has_a_garage</th>\n",
       "      <th>has_air_conditioning</th>\n",
       "      <th>last_floor</th>\n",
       "      <th>upper_floors</th>\n",
       "    </tr>\n",
       "    <tr>\n",
       "      <th>id_annonce</th>\n",
       "      <th></th>\n",
       "      <th></th>\n",
       "      <th></th>\n",
       "      <th></th>\n",
       "      <th></th>\n",
       "      <th></th>\n",
       "      <th></th>\n",
       "      <th></th>\n",
       "      <th></th>\n",
       "      <th></th>\n",
       "      <th></th>\n",
       "      <th></th>\n",
       "      <th></th>\n",
       "      <th></th>\n",
       "      <th></th>\n",
       "      <th></th>\n",
       "      <th></th>\n",
       "      <th></th>\n",
       "      <th></th>\n",
       "    </tr>\n",
       "  </thead>\n",
       "  <tbody>\n",
       "    <tr>\n",
       "      <th>35811033</th>\n",
       "      <td>190000.0</td>\n",
       "      <td>appartement</td>\n",
       "      <td>45.695757</td>\n",
       "      <td>4.895610</td>\n",
       "      <td>90.0</td>\n",
       "      <td>3.0</td>\n",
       "      <td>0.0</td>\n",
       "      <td>5.0</td>\n",
       "      <td>4.0</td>\n",
       "      <td>1.0</td>\n",
       "      <td>0.0</td>\n",
       "      <td>0.0</td>\n",
       "      <td>0.0</td>\n",
       "      <td>0.0</td>\n",
       "      <td>0.0</td>\n",
       "      <td>0.0</td>\n",
       "      <td>0.0</td>\n",
       "      <td>0.0</td>\n",
       "      <td>0.0</td>\n",
       "    </tr>\n",
       "    <tr>\n",
       "      <th>35731841</th>\n",
       "      <td>39000.0</td>\n",
       "      <td>maison</td>\n",
       "      <td>47.966791</td>\n",
       "      <td>-1.220451</td>\n",
       "      <td>61.0</td>\n",
       "      <td>0.0</td>\n",
       "      <td>370.0</td>\n",
       "      <td>2.0</td>\n",
       "      <td>1.0</td>\n",
       "      <td>1.0</td>\n",
       "      <td>0.0</td>\n",
       "      <td>0.0</td>\n",
       "      <td>0.0</td>\n",
       "      <td>0.0</td>\n",
       "      <td>0.0</td>\n",
       "      <td>0.0</td>\n",
       "      <td>0.0</td>\n",
       "      <td>0.0</td>\n",
       "      <td>0.0</td>\n",
       "    </tr>\n",
       "    <tr>\n",
       "      <th>35886765</th>\n",
       "      <td>299000.0</td>\n",
       "      <td>maison</td>\n",
       "      <td>47.289292</td>\n",
       "      <td>-1.878805</td>\n",
       "      <td>142.0</td>\n",
       "      <td>0.0</td>\n",
       "      <td>764.0</td>\n",
       "      <td>4.0</td>\n",
       "      <td>3.0</td>\n",
       "      <td>1.0</td>\n",
       "      <td>0.0</td>\n",
       "      <td>1.0</td>\n",
       "      <td>0.0</td>\n",
       "      <td>1.0</td>\n",
       "      <td>0.0</td>\n",
       "      <td>0.0</td>\n",
       "      <td>0.0</td>\n",
       "      <td>0.0</td>\n",
       "      <td>0.0</td>\n",
       "    </tr>\n",
       "    <tr>\n",
       "      <th>35781137</th>\n",
       "      <td>478000.0</td>\n",
       "      <td>appartement</td>\n",
       "      <td>45.718992</td>\n",
       "      <td>4.844234</td>\n",
       "      <td>88.0</td>\n",
       "      <td>3.0</td>\n",
       "      <td>0.0</td>\n",
       "      <td>4.0</td>\n",
       "      <td>3.0</td>\n",
       "      <td>1.0</td>\n",
       "      <td>0.0</td>\n",
       "      <td>1.0</td>\n",
       "      <td>1.0</td>\n",
       "      <td>0.0</td>\n",
       "      <td>0.0</td>\n",
       "      <td>0.0</td>\n",
       "      <td>0.0</td>\n",
       "      <td>0.0</td>\n",
       "      <td>0.0</td>\n",
       "    </tr>\n",
       "    <tr>\n",
       "      <th>36049101</th>\n",
       "      <td>2050000.0</td>\n",
       "      <td>appartement</td>\n",
       "      <td>48.884067</td>\n",
       "      <td>2.270220</td>\n",
       "      <td>1758.0</td>\n",
       "      <td>5.0</td>\n",
       "      <td>0.0</td>\n",
       "      <td>6.0</td>\n",
       "      <td>3.0</td>\n",
       "      <td>1.0</td>\n",
       "      <td>0.0</td>\n",
       "      <td>0.0</td>\n",
       "      <td>0.0</td>\n",
       "      <td>0.0</td>\n",
       "      <td>0.0</td>\n",
       "      <td>0.0</td>\n",
       "      <td>0.0</td>\n",
       "      <td>0.0</td>\n",
       "      <td>0.0</td>\n",
       "    </tr>\n",
       "  </tbody>\n",
       "</table>\n",
       "</div>"
      ],
      "text/plain": [
       "                price property_type  approximate_latitude  \\\n",
       "id_annonce                                                  \n",
       "35811033     190000.0   appartement             45.695757   \n",
       "35731841      39000.0        maison             47.966791   \n",
       "35886765     299000.0        maison             47.289292   \n",
       "35781137     478000.0   appartement             45.718992   \n",
       "36049101    2050000.0   appartement             48.884067   \n",
       "\n",
       "            approximate_longitude    size  floor  land_size  nb_rooms  \\\n",
       "id_annonce                                                              \n",
       "35811033                 4.895610    90.0    3.0        0.0       5.0   \n",
       "35731841                -1.220451    61.0    0.0      370.0       2.0   \n",
       "35886765                -1.878805   142.0    0.0      764.0       4.0   \n",
       "35781137                 4.844234    88.0    3.0        0.0       4.0   \n",
       "36049101                 2.270220  1758.0    5.0        0.0       6.0   \n",
       "\n",
       "            nb_bedrooms  nb_bathrooms  nb_parking_places  nb_boxes  \\\n",
       "id_annonce                                                           \n",
       "35811033            4.0           1.0                0.0       0.0   \n",
       "35731841            1.0           1.0                0.0       0.0   \n",
       "35886765            3.0           1.0                0.0       1.0   \n",
       "35781137            3.0           1.0                0.0       1.0   \n",
       "36049101            3.0           1.0                0.0       0.0   \n",
       "\n",
       "            has_a_balcony  nb_terraces  has_a_cellar  has_a_garage  \\\n",
       "id_annonce                                                           \n",
       "35811033              0.0          0.0           0.0           0.0   \n",
       "35731841              0.0          0.0           0.0           0.0   \n",
       "35886765              0.0          1.0           0.0           0.0   \n",
       "35781137              1.0          0.0           0.0           0.0   \n",
       "36049101              0.0          0.0           0.0           0.0   \n",
       "\n",
       "            has_air_conditioning  last_floor  upper_floors  \n",
       "id_annonce                                                  \n",
       "35811033                     0.0         0.0           0.0  \n",
       "35731841                     0.0         0.0           0.0  \n",
       "35886765                     0.0         0.0           0.0  \n",
       "35781137                     0.0         0.0           0.0  \n",
       "36049101                     0.0         0.0           0.0  "
      ]
     },
     "execution_count": 27,
     "metadata": {},
     "output_type": "execute_result"
    }
   ],
   "source": [
    "df.head()"
   ]
  },
  {
   "cell_type": "markdown",
   "id": "5243d504-65e6-4cc0-bb3b-a74d3fc088aa",
   "metadata": {},
   "source": [
    "On encode les valeurs de type de propriété :"
   ]
  },
  {
   "cell_type": "code",
   "execution_count": 28,
   "id": "f70bde9d-e23a-445a-a0b9-4bdc4395dff6",
   "metadata": {
    "tags": []
   },
   "outputs": [],
   "source": [
    "df=pd.get_dummies(df,columns=['property_type'])\n"
   ]
  },
  {
   "cell_type": "code",
   "execution_count": 29,
   "id": "4cfc1907-3e02-475c-a3f7-1f3090b7b6ed",
   "metadata": {},
   "outputs": [
    {
     "data": {
      "text/html": [
       "<div>\n",
       "<style scoped>\n",
       "    .dataframe tbody tr th:only-of-type {\n",
       "        vertical-align: middle;\n",
       "    }\n",
       "\n",
       "    .dataframe tbody tr th {\n",
       "        vertical-align: top;\n",
       "    }\n",
       "\n",
       "    .dataframe thead th {\n",
       "        text-align: right;\n",
       "    }\n",
       "</style>\n",
       "<table border=\"1\" class=\"dataframe\">\n",
       "  <thead>\n",
       "    <tr style=\"text-align: right;\">\n",
       "      <th></th>\n",
       "      <th>price</th>\n",
       "      <th>approximate_latitude</th>\n",
       "      <th>approximate_longitude</th>\n",
       "      <th>size</th>\n",
       "      <th>floor</th>\n",
       "      <th>land_size</th>\n",
       "      <th>nb_rooms</th>\n",
       "      <th>nb_bedrooms</th>\n",
       "      <th>nb_bathrooms</th>\n",
       "      <th>nb_parking_places</th>\n",
       "      <th>...</th>\n",
       "      <th>property_type_maison</th>\n",
       "      <th>property_type_manoir</th>\n",
       "      <th>property_type_moulin</th>\n",
       "      <th>property_type_parking</th>\n",
       "      <th>property_type_propriété</th>\n",
       "      <th>property_type_péniche</th>\n",
       "      <th>property_type_terrain</th>\n",
       "      <th>property_type_terrain à bâtir</th>\n",
       "      <th>property_type_viager</th>\n",
       "      <th>property_type_villa</th>\n",
       "    </tr>\n",
       "    <tr>\n",
       "      <th>id_annonce</th>\n",
       "      <th></th>\n",
       "      <th></th>\n",
       "      <th></th>\n",
       "      <th></th>\n",
       "      <th></th>\n",
       "      <th></th>\n",
       "      <th></th>\n",
       "      <th></th>\n",
       "      <th></th>\n",
       "      <th></th>\n",
       "      <th></th>\n",
       "      <th></th>\n",
       "      <th></th>\n",
       "      <th></th>\n",
       "      <th></th>\n",
       "      <th></th>\n",
       "      <th></th>\n",
       "      <th></th>\n",
       "      <th></th>\n",
       "      <th></th>\n",
       "      <th></th>\n",
       "    </tr>\n",
       "  </thead>\n",
       "  <tbody>\n",
       "    <tr>\n",
       "      <th>35811033</th>\n",
       "      <td>190000.0</td>\n",
       "      <td>45.695757</td>\n",
       "      <td>4.895610</td>\n",
       "      <td>90.0</td>\n",
       "      <td>3.0</td>\n",
       "      <td>0.0</td>\n",
       "      <td>5.0</td>\n",
       "      <td>4.0</td>\n",
       "      <td>1.0</td>\n",
       "      <td>0.0</td>\n",
       "      <td>...</td>\n",
       "      <td>0</td>\n",
       "      <td>0</td>\n",
       "      <td>0</td>\n",
       "      <td>0</td>\n",
       "      <td>0</td>\n",
       "      <td>0</td>\n",
       "      <td>0</td>\n",
       "      <td>0</td>\n",
       "      <td>0</td>\n",
       "      <td>0</td>\n",
       "    </tr>\n",
       "    <tr>\n",
       "      <th>35731841</th>\n",
       "      <td>39000.0</td>\n",
       "      <td>47.966791</td>\n",
       "      <td>-1.220451</td>\n",
       "      <td>61.0</td>\n",
       "      <td>0.0</td>\n",
       "      <td>370.0</td>\n",
       "      <td>2.0</td>\n",
       "      <td>1.0</td>\n",
       "      <td>1.0</td>\n",
       "      <td>0.0</td>\n",
       "      <td>...</td>\n",
       "      <td>1</td>\n",
       "      <td>0</td>\n",
       "      <td>0</td>\n",
       "      <td>0</td>\n",
       "      <td>0</td>\n",
       "      <td>0</td>\n",
       "      <td>0</td>\n",
       "      <td>0</td>\n",
       "      <td>0</td>\n",
       "      <td>0</td>\n",
       "    </tr>\n",
       "    <tr>\n",
       "      <th>35886765</th>\n",
       "      <td>299000.0</td>\n",
       "      <td>47.289292</td>\n",
       "      <td>-1.878805</td>\n",
       "      <td>142.0</td>\n",
       "      <td>0.0</td>\n",
       "      <td>764.0</td>\n",
       "      <td>4.0</td>\n",
       "      <td>3.0</td>\n",
       "      <td>1.0</td>\n",
       "      <td>0.0</td>\n",
       "      <td>...</td>\n",
       "      <td>1</td>\n",
       "      <td>0</td>\n",
       "      <td>0</td>\n",
       "      <td>0</td>\n",
       "      <td>0</td>\n",
       "      <td>0</td>\n",
       "      <td>0</td>\n",
       "      <td>0</td>\n",
       "      <td>0</td>\n",
       "      <td>0</td>\n",
       "    </tr>\n",
       "    <tr>\n",
       "      <th>35781137</th>\n",
       "      <td>478000.0</td>\n",
       "      <td>45.718992</td>\n",
       "      <td>4.844234</td>\n",
       "      <td>88.0</td>\n",
       "      <td>3.0</td>\n",
       "      <td>0.0</td>\n",
       "      <td>4.0</td>\n",
       "      <td>3.0</td>\n",
       "      <td>1.0</td>\n",
       "      <td>0.0</td>\n",
       "      <td>...</td>\n",
       "      <td>0</td>\n",
       "      <td>0</td>\n",
       "      <td>0</td>\n",
       "      <td>0</td>\n",
       "      <td>0</td>\n",
       "      <td>0</td>\n",
       "      <td>0</td>\n",
       "      <td>0</td>\n",
       "      <td>0</td>\n",
       "      <td>0</td>\n",
       "    </tr>\n",
       "    <tr>\n",
       "      <th>36049101</th>\n",
       "      <td>2050000.0</td>\n",
       "      <td>48.884067</td>\n",
       "      <td>2.270220</td>\n",
       "      <td>1758.0</td>\n",
       "      <td>5.0</td>\n",
       "      <td>0.0</td>\n",
       "      <td>6.0</td>\n",
       "      <td>3.0</td>\n",
       "      <td>1.0</td>\n",
       "      <td>0.0</td>\n",
       "      <td>...</td>\n",
       "      <td>0</td>\n",
       "      <td>0</td>\n",
       "      <td>0</td>\n",
       "      <td>0</td>\n",
       "      <td>0</td>\n",
       "      <td>0</td>\n",
       "      <td>0</td>\n",
       "      <td>0</td>\n",
       "      <td>0</td>\n",
       "      <td>0</td>\n",
       "    </tr>\n",
       "  </tbody>\n",
       "</table>\n",
       "<p>5 rows × 38 columns</p>\n",
       "</div>"
      ],
      "text/plain": [
       "                price  approximate_latitude  approximate_longitude    size  \\\n",
       "id_annonce                                                                   \n",
       "35811033     190000.0             45.695757               4.895610    90.0   \n",
       "35731841      39000.0             47.966791              -1.220451    61.0   \n",
       "35886765     299000.0             47.289292              -1.878805   142.0   \n",
       "35781137     478000.0             45.718992               4.844234    88.0   \n",
       "36049101    2050000.0             48.884067               2.270220  1758.0   \n",
       "\n",
       "            floor  land_size  nb_rooms  nb_bedrooms  nb_bathrooms  \\\n",
       "id_annonce                                                          \n",
       "35811033      3.0        0.0       5.0          4.0           1.0   \n",
       "35731841      0.0      370.0       2.0          1.0           1.0   \n",
       "35886765      0.0      764.0       4.0          3.0           1.0   \n",
       "35781137      3.0        0.0       4.0          3.0           1.0   \n",
       "36049101      5.0        0.0       6.0          3.0           1.0   \n",
       "\n",
       "            nb_parking_places  ...  property_type_maison  \\\n",
       "id_annonce                     ...                         \n",
       "35811033                  0.0  ...                     0   \n",
       "35731841                  0.0  ...                     1   \n",
       "35886765                  0.0  ...                     1   \n",
       "35781137                  0.0  ...                     0   \n",
       "36049101                  0.0  ...                     0   \n",
       "\n",
       "            property_type_manoir  property_type_moulin  property_type_parking  \\\n",
       "id_annonce                                                                      \n",
       "35811033                       0                     0                      0   \n",
       "35731841                       0                     0                      0   \n",
       "35886765                       0                     0                      0   \n",
       "35781137                       0                     0                      0   \n",
       "36049101                       0                     0                      0   \n",
       "\n",
       "            property_type_propriété  property_type_péniche  \\\n",
       "id_annonce                                                   \n",
       "35811033                          0                      0   \n",
       "35731841                          0                      0   \n",
       "35886765                          0                      0   \n",
       "35781137                          0                      0   \n",
       "36049101                          0                      0   \n",
       "\n",
       "            property_type_terrain  property_type_terrain à bâtir  \\\n",
       "id_annonce                                                         \n",
       "35811033                        0                              0   \n",
       "35731841                        0                              0   \n",
       "35886765                        0                              0   \n",
       "35781137                        0                              0   \n",
       "36049101                        0                              0   \n",
       "\n",
       "            property_type_viager  property_type_villa  \n",
       "id_annonce                                             \n",
       "35811033                       0                    0  \n",
       "35731841                       0                    0  \n",
       "35886765                       0                    0  \n",
       "35781137                       0                    0  \n",
       "36049101                       0                    0  \n",
       "\n",
       "[5 rows x 38 columns]"
      ]
     },
     "execution_count": 29,
     "metadata": {},
     "output_type": "execute_result"
    }
   ],
   "source": [
    "df.head()"
   ]
  },
  {
   "cell_type": "code",
   "execution_count": 30,
   "id": "cc5df805-24ae-40ba-b875-bf2c9f09dacc",
   "metadata": {},
   "outputs": [
    {
     "data": {
      "text/plain": [
       "Index(['price', 'approximate_latitude', 'approximate_longitude', 'size',\n",
       "       'floor', 'land_size', 'nb_rooms', 'nb_bedrooms', 'nb_bathrooms',\n",
       "       'nb_parking_places', 'nb_boxes', 'has_a_balcony', 'nb_terraces',\n",
       "       'has_a_cellar', 'has_a_garage', 'has_air_conditioning', 'last_floor',\n",
       "       'upper_floors', 'property_type_appartement', 'property_type_atelier',\n",
       "       'property_type_chalet', 'property_type_château', 'property_type_divers',\n",
       "       'property_type_duplex', 'property_type_ferme', 'property_type_gîte',\n",
       "       'property_type_hôtel particulier', 'property_type_loft',\n",
       "       'property_type_maison', 'property_type_manoir', 'property_type_moulin',\n",
       "       'property_type_parking', 'property_type_propriété',\n",
       "       'property_type_péniche', 'property_type_terrain',\n",
       "       'property_type_terrain à bâtir', 'property_type_viager',\n",
       "       'property_type_villa'],\n",
       "      dtype='object')"
      ]
     },
     "execution_count": 30,
     "metadata": {},
     "output_type": "execute_result"
    }
   ],
   "source": [
    "df.columns"
   ]
  },
  {
   "cell_type": "markdown",
   "id": "2c89b14d-908c-4124-8588-fc91c8b126c6",
   "metadata": {},
   "source": [
    "## Modèles : Réseaux de neurones"
   ]
  },
  {
   "cell_type": "code",
   "execution_count": 33,
   "id": "dac8af99-376b-427c-9f30-91033c477ed9",
   "metadata": {},
   "outputs": [
    {
     "ename": "ModuleNotFoundError",
     "evalue": "No module named 'sklearn.model_selection'",
     "output_type": "error",
     "traceback": [
      "\u001b[0;31m---------------------------------------------------------------------------\u001b[0m",
      "\u001b[0;31mModuleNotFoundError\u001b[0m                       Traceback (most recent call last)",
      "\u001b[0;32m/var/folders/c6/6v_rvxyj6rj6m70q6t5cvn3w0000gn/T/ipykernel_78778/1705479558.py\u001b[0m in \u001b[0;36m<module>\u001b[0;34m\u001b[0m\n\u001b[1;32m      1\u001b[0m \u001b[0;31m# On split les données\u001b[0m\u001b[0;34m\u001b[0m\u001b[0;34m\u001b[0m\u001b[0m\n\u001b[0;32m----> 2\u001b[0;31m \u001b[0;32mfrom\u001b[0m \u001b[0msklearn\u001b[0m\u001b[0;34m.\u001b[0m\u001b[0mmodel_selection\u001b[0m \u001b[0;32mimport\u001b[0m \u001b[0mtrain_test_split\u001b[0m\u001b[0;34m\u001b[0m\u001b[0;34m\u001b[0m\u001b[0m\n\u001b[0m\u001b[1;32m      3\u001b[0m \u001b[0;34m\u001b[0m\u001b[0m\n\u001b[1;32m      4\u001b[0m \u001b[0;34m\u001b[0m\u001b[0m\n\u001b[1;32m      5\u001b[0m \u001b[0;31m# 0n importe tout ce qu'on a besoin pour le reseau\u001b[0m\u001b[0;34m\u001b[0m\u001b[0;34m\u001b[0m\u001b[0m\n",
      "\u001b[0;31mModuleNotFoundError\u001b[0m: No module named 'sklearn.model_selection'"
     ]
    }
   ],
   "source": [
    "# On split les données\n",
    "from sklearn.model_selection import train_test_split\n",
    "\n",
    "\n",
    "# 0n importe tout ce qu'on a besoin pour le reseau\n",
    "from keras import backend as K\n",
    "from keras.utils import np_utils\n",
    "from keras.models import Sequential\n",
    "from keras.layers import Dense, InputLayer\n",
    "from keras import activations\n",
    "\n",
    "#On normalise tout et on garde les valeurs pour l'affichage\n",
    "mu = df['price'].mean()\n",
    "sigma = df['price'].std()\n",
    "#A la fin on remultplie par sigma et on ajoute mu aux données prédites pour revenir aux prix\n",
    "normalized_df=(df-df.min())/(df.max()-df.min())\n",
    "print('Prix moyen:', int(mu), '€')\n",
    "print('Prix std:',int(sigma),'€')\n",
    "\n",
    "\n",
    "X = normalized_df.drop(columns=['price'])\n",
    "y = normalized_df['price']\n",
    "\n",
    "X_train,X_test,y_train,y_test = train_test_split(X,y,test_size=0.2) #On découpe les données pour faire les calculs\n",
    "input_shape = (len(df.columns)-1,)\n",
    "print(y.head())"
   ]
  },
  {
   "cell_type": "markdown",
   "id": "6f387795",
   "metadata": {},
   "source": [
    "Réseau 1"
   ]
  },
  {
   "cell_type": "code",
   "execution_count": null,
   "id": "623ea843",
   "metadata": {},
   "outputs": [],
   "source": [
    "model1 = Sequential()\n",
    "\n",
    "hyp1 = {'learning_rate' : 0.00005,\n",
    "        'batch_size' : 64,\n",
    "        'epochs' : 10}\n",
    "\n",
    "model1.add(Dense(20, input_shape=input_shape, name = 'Input'))\n",
    "model1.add(Dense(10,activation = 'sigmoid',name='relu1'))\n",
    "model1.add(Dense(1,activation = 'sigmoid',name='output'))\n",
    "\n",
    "model1.compile(\n",
    "    loss=tf.keras.losses.binary_crossentropy,\n",
    "    optimizer=tf.keras.optimizers.Adagrad(learning_rate = hyp1['learning_rate'],),\n",
    "    metrics=['accuracy'])\n",
    "\n",
    "model1.summary()\n",
    "\n",
    "history = model1.fit(X_train,y_train,\n",
    "                     epochs = hyp1['epochs'],\n",
    "                     batch_size = hyp1['batch_size'],\n",
    "                     verbose = 1,\n",
    "                     validation_data=(X_test,y_test))\n",
    "\n",
    "score = model1.evaluate(X_test, y_test, verbose=0)\n",
    "print(y_train[:8],y_test[:8])\n",
    "print('Test loss:', score[0])\n",
    "print('Test accuracy:', score[1])\n",
    "\n",
    "plt.figure(figsize=(7, 5))\n",
    "plt.plot(history.epoch, history.history['accuracy'], lw=3, label='Training')\n",
    "plt.plot(history.epoch, history.history['val_accuracy'], lw=3, label='Testing')\n",
    "plt.legend(fontsize=14)\n",
    "plt.title('Accuracy of regression', fontsize=16)\n",
    "plt.xlabel('Epoch', fontsize=14)\n",
    "plt.ylabel('Accuracy', fontsize=14)\n",
    "plt.tight_layout()\n",
    "\n"
   ]
  }
 ],
 "metadata": {
  "kernelspec": {
   "display_name": "Python 3 (ipykernel)",
   "language": "python",
   "name": "python3"
  },
  "language_info": {
   "codemirror_mode": {
    "name": "ipython",
    "version": 3
   },
   "file_extension": ".py",
   "mimetype": "text/x-python",
   "name": "python",
   "nbconvert_exporter": "python",
   "pygments_lexer": "ipython3",
   "version": "3.9.13"
  }
 },
 "nbformat": 4,
 "nbformat_minor": 5
}
